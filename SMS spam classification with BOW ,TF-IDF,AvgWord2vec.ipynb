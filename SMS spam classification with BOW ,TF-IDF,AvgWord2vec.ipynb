{
 "cells": [
  {
   "cell_type": "markdown",
   "id": "2beda04a",
   "metadata": {},
   "source": [
    "# SMS Spam Ham Classification Project using NLP Techniques and Machine Learning Algorithms"
   ]
  },
  {
   "cell_type": "markdown",
   "id": "708e3a3c",
   "metadata": {},
   "source": [
    "## Part-1 Bag of words and TF-IDF"
   ]
  },
  {
   "cell_type": "markdown",
   "id": "b2e40382",
   "metadata": {},
   "source": [
    "### EDA"
   ]
  },
  {
   "cell_type": "markdown",
   "id": "29561452",
   "metadata": {},
   "source": [
    "#### Loading the Data"
   ]
  },
  {
   "cell_type": "code",
   "execution_count": 1,
   "id": "425fd4e7",
   "metadata": {},
   "outputs": [],
   "source": [
    "import pandas as pd \n",
    "import re"
   ]
  },
  {
   "cell_type": "code",
   "execution_count": 2,
   "id": "3a43b247",
   "metadata": {},
   "outputs": [],
   "source": [
    "messages = pd.read_csv(r\"smsspamcollection\\SMSSpamCollection\",sep= \"\\t\",names=[\"label\",\"message\"])"
   ]
  },
  {
   "cell_type": "code",
   "execution_count": 3,
   "id": "98f5905c",
   "metadata": {},
   "outputs": [
    {
     "data": {
      "text/html": [
       "<div>\n",
       "<style scoped>\n",
       "    .dataframe tbody tr th:only-of-type {\n",
       "        vertical-align: middle;\n",
       "    }\n",
       "\n",
       "    .dataframe tbody tr th {\n",
       "        vertical-align: top;\n",
       "    }\n",
       "\n",
       "    .dataframe thead th {\n",
       "        text-align: right;\n",
       "    }\n",
       "</style>\n",
       "<table border=\"1\" class=\"dataframe\">\n",
       "  <thead>\n",
       "    <tr style=\"text-align: right;\">\n",
       "      <th></th>\n",
       "      <th>label</th>\n",
       "      <th>message</th>\n",
       "    </tr>\n",
       "  </thead>\n",
       "  <tbody>\n",
       "    <tr>\n",
       "      <th>0</th>\n",
       "      <td>ham</td>\n",
       "      <td>Go until jurong point, crazy.. Available only ...</td>\n",
       "    </tr>\n",
       "    <tr>\n",
       "      <th>1</th>\n",
       "      <td>ham</td>\n",
       "      <td>Ok lar... Joking wif u oni...</td>\n",
       "    </tr>\n",
       "    <tr>\n",
       "      <th>2</th>\n",
       "      <td>spam</td>\n",
       "      <td>Free entry in 2 a wkly comp to win FA Cup fina...</td>\n",
       "    </tr>\n",
       "    <tr>\n",
       "      <th>3</th>\n",
       "      <td>ham</td>\n",
       "      <td>U dun say so early hor... U c already then say...</td>\n",
       "    </tr>\n",
       "    <tr>\n",
       "      <th>4</th>\n",
       "      <td>ham</td>\n",
       "      <td>Nah I don't think he goes to usf, he lives aro...</td>\n",
       "    </tr>\n",
       "  </tbody>\n",
       "</table>\n",
       "</div>"
      ],
      "text/plain": [
       "  label                                            message\n",
       "0   ham  Go until jurong point, crazy.. Available only ...\n",
       "1   ham                      Ok lar... Joking wif u oni...\n",
       "2  spam  Free entry in 2 a wkly comp to win FA Cup fina...\n",
       "3   ham  U dun say so early hor... U c already then say...\n",
       "4   ham  Nah I don't think he goes to usf, he lives aro..."
      ]
     },
     "execution_count": 3,
     "metadata": {},
     "output_type": "execute_result"
    }
   ],
   "source": [
    "messages.head()"
   ]
  },
  {
   "cell_type": "code",
   "execution_count": 4,
   "id": "14a98295",
   "metadata": {},
   "outputs": [
    {
     "data": {
      "text/plain": [
       "(5572, 2)"
      ]
     },
     "execution_count": 4,
     "metadata": {},
     "output_type": "execute_result"
    }
   ],
   "source": [
    "messages.shape"
   ]
  },
  {
   "cell_type": "code",
   "execution_count": 5,
   "id": "5a62d192",
   "metadata": {},
   "outputs": [
    {
     "data": {
      "text/plain": [
       "label      0\n",
       "message    0\n",
       "dtype: int64"
      ]
     },
     "execution_count": 5,
     "metadata": {},
     "output_type": "execute_result"
    }
   ],
   "source": [
    "messages.isnull().sum()"
   ]
  },
  {
   "cell_type": "code",
   "execution_count": 6,
   "id": "32f77c5b",
   "metadata": {},
   "outputs": [],
   "source": [
    "messages.drop_duplicates(inplace=True)\n",
    "messages.reset_index(drop=True,inplace=True)"
   ]
  },
  {
   "cell_type": "code",
   "execution_count": 7,
   "id": "7b36217d",
   "metadata": {},
   "outputs": [
    {
     "data": {
      "text/plain": [
       "<Axes: >"
      ]
     },
     "execution_count": 7,
     "metadata": {},
     "output_type": "execute_result"
    },
    {
     "data": {
      "image/png": "[encoded data removed]",
      "text/plain": [
       "<Figure size 640x480 with 1 Axes>"
      ]
     },
     "metadata": {},
     "output_type": "display_data"
    }
   ],
   "source": [
    "messages[\"label\"].value_counts().plot(kind=\"bar\")"
   ]
  },
  {
   "cell_type": "markdown",
   "id": "79575ddd",
   "metadata": {},
   "source": [
    "* Though the classes are imbalanced, we will not be using resampling techniques for now. Using SMOTE on text data after TF-IDF or BoW is not going to be useful as it produces a sparse matrix, so we cannot replicate a message in between like we do in numeric data and hence it might generate wrong or noisy samples. \n",
    "\n",
    "* Therefore, we will adjust it using the class imbalance handling in Logistic Regression, and for Naive Bayes, we will think about it later after considering the precision and recall scores.\""
   ]
  },
  {
   "cell_type": "markdown",
   "id": "d8c89608",
   "metadata": {},
   "source": [
    "### Text Processing"
   ]
  },
  {
   "cell_type": "code",
   "execution_count": 8,
   "id": "8143069a",
   "metadata": {},
   "outputs": [],
   "source": [
    "import nltk\n",
    "# nltk.download(\"stopwords\") only needed if you dont downloaded it already"
   ]
  },
  {
   "cell_type": "code",
   "execution_count": 9,
   "id": "986d9203",
   "metadata": {},
   "outputs": [],
   "source": [
    "from nltk.corpus import stopwords\n",
    "from nltk.stem import WordNetLemmatizer\n",
    "\n",
    "lemmatizer = WordNetLemmatizer()"
   ]
  },
  {
   "cell_type": "code",
   "execution_count": 10,
   "id": "94111df6",
   "metadata": {},
   "outputs": [
    {
     "data": {
      "text/plain": [
       "5169"
      ]
     },
     "execution_count": 10,
     "metadata": {},
     "output_type": "execute_result"
    }
   ],
   "source": [
    "len(messages)"
   ]
  },
  {
   "cell_type": "code",
   "execution_count": 11,
   "id": "00b3cec0",
   "metadata": {},
   "outputs": [
    {
     "data": {
      "text/plain": [
       "0       Go until jurong point, crazy.. Available only ...\n",
       "1                           Ok lar... Joking wif u oni...\n",
       "2       Free entry in 2 a wkly comp to win FA Cup fina...\n",
       "3       U dun say so early hor... U c already then say...\n",
       "4       Nah I don't think he goes to usf, he lives aro...\n",
       "                              ...                        \n",
       "5164    This is the 2nd time we have tried 2 contact u...\n",
       "5165                 Will ü b going to esplanade fr home?\n",
       "5166    Pity, * was in mood for that. So...any other s...\n",
       "5167    The guy did some bitching but I acted like i'd...\n",
       "5168                           Rofl. Its true to its name\n",
       "Name: message, Length: 5169, dtype: object"
      ]
     },
     "execution_count": 11,
     "metadata": {},
     "output_type": "execute_result"
    }
   ],
   "source": [
    "messages[\"message\"]"
   ]
  },
  {
   "cell_type": "markdown",
   "id": "0123ab46",
   "metadata": {},
   "source": [
    "we can shorten the below text preprocessing step using simplepreprocess which we will see in part-2 while we are applying wored2vec"
   ]
  },
  {
   "cell_type": "code",
   "execution_count": 12,
   "id": "86eb1939",
   "metadata": {},
   "outputs": [],
   "source": [
    "corpus = []\n",
    "stopwords = set(stopwords.words(\"english\"))\n",
    "\n",
    "for i in range(len(messages)):\n",
    "    retext = re.sub(\"[^a-zA-Z]\",\" \",messages[\"message\"][i])\n",
    "    retext = retext.lower()\n",
    "    words = retext.split()\n",
    "    words = [lemmatizer.lemmatize(word) for word in words if word not in stopwords]\n",
    "    cleaned_text = \" \".join(words)\n",
    "    corpus.append(cleaned_text)\n"
   ]
  },
  {
   "cell_type": "code",
   "execution_count": 13,
   "id": "90cad28c",
   "metadata": {},
   "outputs": [
    {
     "data": {
      "text/plain": [
       "['go jurong point crazy available bugis n great world la e buffet cine got amore wat',\n",
       " 'ok lar joking wif u oni',\n",
       " 'free entry wkly comp win fa cup final tkts st may text fa receive entry question std txt rate c apply',\n",
       " 'u dun say early hor u c already say',\n",
       " 'nah think go usf life around though']"
      ]
     },
     "execution_count": 13,
     "metadata": {},
     "output_type": "execute_result"
    }
   ],
   "source": [
    "corpus[:5] # this is nothing but our independent variable X"
   ]
  },
  {
   "cell_type": "markdown",
   "id": "cf1ac476",
   "metadata": {},
   "source": [
    "#### Segregating independent and dependent variables"
   ]
  },
  {
   "cell_type": "code",
   "execution_count": 14,
   "id": "692f062d",
   "metadata": {},
   "outputs": [],
   "source": [
    "# when we convert out label into one hot encoded columns we can retain any one of the column so her i am retaining\n",
    "# spam column if there is 0 then it means the sms is spam and if it is 0 then is ham or not a spam\n",
    "y = pd.get_dummies(messages[\"label\"])[\"spam\"]"
   ]
  },
  {
   "cell_type": "markdown",
   "id": "a1eae1cc",
   "metadata": {},
   "source": [
    "#### spliting the dataset into train and test data:"
   ]
  },
  {
   "cell_type": "code",
   "execution_count": 15,
   "id": "13e25e70",
   "metadata": {},
   "outputs": [],
   "source": [
    "import sklearn\n",
    "from sklearn.model_selection import train_test_split\n",
    "\n",
    "X_train ,X_test,y_train,y_test = train_test_split(corpus, y, test_size= 0.3, random_state= 3)"
   ]
  },
  {
   "cell_type": "markdown",
   "id": "472e2512",
   "metadata": {},
   "source": [
    "#### Vectorization (Word Embeddings)."
   ]
  },
  {
   "cell_type": "markdown",
   "id": "d10c39ff",
   "metadata": {},
   "source": [
    "#### 1) Bag of words:"
   ]
  },
  {
   "cell_type": "code",
   "execution_count": 16,
   "id": "877a4db6",
   "metadata": {},
   "outputs": [],
   "source": [
    "from sklearn.feature_extraction.text import CountVectorizer\n",
    "cv = CountVectorizer(max_features= 2000,ngram_range=(1,3),) # here i am saying need top 2000 features and i should consider\n",
    "                                                           # unigram, bigram and trigram"
   ]
  },
  {
   "cell_type": "markdown",
   "id": "ddcf653e",
   "metadata": {},
   "source": [
    "when we are performing the text processing techniques while creating the corpus we may lose some row because of empty spaces\n",
    "so it is always good to know wheather the train and test data on X and y are in same length"
   ]
  },
  {
   "cell_type": "code",
   "execution_count": 17,
   "id": "e1ac4778",
   "metadata": {},
   "outputs": [
    {
     "name": "stdout",
     "output_type": "stream",
     "text": [
      "3618 3618 1551 1551\n"
     ]
    }
   ],
   "source": [
    "print(len(X_train),len(y_train),len(X_test),len(y_test))"
   ]
  },
  {
   "cell_type": "code",
   "execution_count": 18,
   "id": "4db26c82",
   "metadata": {},
   "outputs": [],
   "source": [
    "X_train_cv = cv.fit_transform(X_train).toarray()\n",
    "X_test_cv = cv.transform(X_test).toarray()"
   ]
  },
  {
   "cell_type": "code",
   "execution_count": 19,
   "id": "10d72999",
   "metadata": {},
   "outputs": [
    {
     "data": {
      "text/plain": [
       "array([[0, 0, 0, ..., 0, 0, 0],\n",
       "       [0, 0, 0, ..., 0, 0, 0],\n",
       "       [0, 0, 0, ..., 0, 0, 0],\n",
       "       ...,\n",
       "       [0, 0, 0, ..., 0, 0, 0],\n",
       "       [0, 0, 0, ..., 0, 0, 0],\n",
       "       [0, 0, 0, ..., 0, 0, 0]], dtype=int64)"
      ]
     },
     "execution_count": 19,
     "metadata": {},
     "output_type": "execute_result"
    }
   ],
   "source": [
    "X_train_cv # we have uses normal bow so we will get frequency of occuring in the array "
   ]
  },
  {
   "cell_type": "code",
   "execution_count": 20,
   "id": "f810c37c",
   "metadata": {},
   "outputs": [
    {
     "name": "stdout",
     "output_type": "stream",
     "text": [
      "(3618, 2000)\n",
      "(1551, 2000)\n"
     ]
    }
   ],
   "source": [
    "print(X_train_cv.shape)\n",
    "print(X_test_cv.shape)\n"
   ]
  },
  {
   "cell_type": "code",
   "execution_count": 21,
   "id": "6bb0e3a9",
   "metadata": {},
   "outputs": [
    {
     "data": {
      "text/plain": [
       "{'get': 635,\n",
       " 'pic': 1278,\n",
       " 'msg': 1130,\n",
       " 'phone': 1276,\n",
       " 'number': 1202,\n",
       " 'done': 449,\n",
       " 'sorry': 1574,\n",
       " 'hope': 788,\n",
       " 'next': 1175,\n",
       " 'give': 648,\n",
       " 'everything': 522,\n",
       " 'want': 1868,\n",
       " 'remember': 1403,\n",
       " 'around': 67,\n",
       " 'move': 1121,\n",
       " 'leave': 928,\n",
       " 'key': 879,\n",
       " 'thanx': 1694,\n",
       " 'lot': 988,\n",
       " 'yup': 1999,\n",
       " 'wun': 1959,\n",
       " 'believe': 130,\n",
       " 'wat': 1877,\n",
       " 'really': 1387,\n",
       " 'neva': 1165,\n",
       " 'sent': 1498,\n",
       " 'shuhui': 1524,\n",
       " 'lady': 889,\n",
       " 'street': 1621,\n",
       " 'sheet': 1509,\n",
       " 'hello': 757,\n",
       " 'site': 1539,\n",
       " 'download': 457,\n",
       " 'song': 1568,\n",
       " 'urgent': 1817,\n",
       " 'pls': 1299,\n",
       " 'read': 1383,\n",
       " 'twice': 1770,\n",
       " 'people': 1265,\n",
       " 'spend': 1591,\n",
       " 'time': 1716,\n",
       " 'money': 1111,\n",
       " 'spent': 1592,\n",
       " 'good': 672,\n",
       " 'morning': 1114,\n",
       " 'keep': 873,\n",
       " 'smiling': 1557,\n",
       " 'good morning': 680,\n",
       " 'someone': 1563,\n",
       " 'smoke': 1558,\n",
       " 'every': 514,\n",
       " 'last': 900,\n",
       " 'two': 1771,\n",
       " 'week': 1897,\n",
       " 'calling': 226,\n",
       " 'texting': 1687,\n",
       " 'wanted': 1873,\n",
       " 'every time': 515,\n",
       " 'dun': 473,\n",
       " 'thk': 1705,\n",
       " 'told': 1731,\n",
       " 'nothing': 1195,\n",
       " 'making': 1029,\n",
       " 'sure': 1643,\n",
       " 'everybody': 520,\n",
       " 'great': 696,\n",
       " 'party': 1258,\n",
       " 'wife': 1916,\n",
       " 'knew': 885,\n",
       " 'road': 1432,\n",
       " 'cant': 237,\n",
       " 'txt': 1772,\n",
       " 'ok': 1216,\n",
       " 'april': 60,\n",
       " 'wait': 1854,\n",
       " 'cant wait': 239,\n",
       " 'come': 318,\n",
       " 'tomorrow': 1733,\n",
       " 'ur': 1802,\n",
       " 'help': 758,\n",
       " 'work': 1943,\n",
       " 'cool': 351,\n",
       " 'lt': 998,\n",
       " 'gt': 703,\n",
       " 'inch': 833,\n",
       " 'long': 974,\n",
       " 'like': 947,\n",
       " 'big': 135,\n",
       " 'lt gt': 1001,\n",
       " 'nice': 1178,\n",
       " 'day': 398,\n",
       " 'went': 1908,\n",
       " 'home': 783,\n",
       " 'early': 480,\n",
       " 'feel': 547,\n",
       " 'fine': 567,\n",
       " 'nice day': 1179,\n",
       " 'home early': 784,\n",
       " 'im': 825,\n",
       " 'gonna': 671,\n",
       " 'miss': 1082,\n",
       " 'much': 1135,\n",
       " 'miss much': 1084,\n",
       " 'derek': 420,\n",
       " 'class': 289,\n",
       " 'busy': 185,\n",
       " 'trying': 1760,\n",
       " 'finish': 568,\n",
       " 'new': 1167,\n",
       " 'year': 1984,\n",
       " 'looking': 979,\n",
       " 'finally': 560,\n",
       " 'meeting': 1055,\n",
       " 'new year': 1173,\n",
       " 'mind': 1076,\n",
       " 'giving': 650,\n",
       " 'lift': 945,\n",
       " 'co': 296,\n",
       " 'got': 686,\n",
       " 'car': 240,\n",
       " 'today': 1725,\n",
       " 'also': 42,\n",
       " 'company': 328,\n",
       " 'take': 1652,\n",
       " 'way': 1885,\n",
       " 'may': 1045,\n",
       " 'stuff': 1626,\n",
       " 'picked': 1280,\n",
       " 'receipt': 1391,\n",
       " 'something': 1565,\n",
       " 'earlier': 479,\n",
       " 'yeah': 1982,\n",
       " 'imma': 827,\n",
       " 'cause': 253,\n",
       " 'jay': 858,\n",
       " 'drug': 469,\n",
       " 'working': 1945,\n",
       " 'support': 1640,\n",
       " 'voice': 1849,\n",
       " 'process': 1351,\n",
       " 'jus': 868,\n",
       " 'rite': 1431,\n",
       " 'send': 1491,\n",
       " 'wonderful': 1938,\n",
       " 'guess': 721,\n",
       " 'important': 831,\n",
       " 'tmr': 1724,\n",
       " 'think': 1699,\n",
       " 'book': 151,\n",
       " 'still': 1609,\n",
       " 'da': 388,\n",
       " 'please': 1293,\n",
       " 'call': 192,\n",
       " 'please call': 1294,\n",
       " 'ready': 1385,\n",
       " 'yes': 1987,\n",
       " 'fun': 618,\n",
       " 'hp': 801,\n",
       " 'model': 1106,\n",
       " 'say': 1461,\n",
       " 'got lot': 688,\n",
       " 'lol': 973,\n",
       " 'idea': 818,\n",
       " 'sm': 1553,\n",
       " 'auction': 89,\n",
       " 'nokia': 1185,\n",
       " 'win': 1919,\n",
       " 'free': 590,\n",
       " 'part': 1256,\n",
       " 'hg': 761,\n",
       " 'suite': 1631,\n",
       " 'land': 891,\n",
       " 'row': 1440,\n",
       " 'nokia get': 1186,\n",
       " 'win free': 1921,\n",
       " 'take part': 1654,\n",
       " 'hg suite': 762,\n",
       " 'suite land': 1632,\n",
       " 'land row': 894,\n",
       " 'hg suite land': 763,\n",
       " 'suite land row': 1633,\n",
       " 'logo': 972,\n",
       " 'lover': 995,\n",
       " 'name': 1143,\n",
       " 'heart': 754,\n",
       " 'love': 990,\n",
       " 'eg': 488,\n",
       " 'eve': 510,\n",
       " 'yahoo': 1978,\n",
       " 'pobox': 1309,\n",
       " 'wq': 1956,\n",
       " 'pobox wq': 1310,\n",
       " 'landline': 896,\n",
       " 'tenerife': 1675,\n",
       " 'holiday': 779,\n",
       " 'cash': 245,\n",
       " 'await': 92,\n",
       " 'collection': 308,\n",
       " 'sae': 1448,\n",
       " 'po': 1306,\n",
       " 'box': 159,\n",
       " 'wa': 1853,\n",
       " 'ppm': 1324,\n",
       " 'offer': 1210,\n",
       " 'urgent call': 1818,\n",
       " 'call landline': 207,\n",
       " 'tenerife holiday': 1676,\n",
       " 'holiday cash': 780,\n",
       " 'cash await': 246,\n",
       " 'await collection': 93,\n",
       " 'collection sae': 309,\n",
       " 'sae po': 1450,\n",
       " 'po box': 1307,\n",
       " 'urgent call landline': 1819,\n",
       " 'tenerife holiday cash': 1677,\n",
       " 'holiday cash await': 781,\n",
       " 'cash await collection': 247,\n",
       " 'await collection sae': 94,\n",
       " 'collection sae po': 310,\n",
       " 'sae po box': 1451,\n",
       " 'start': 1600,\n",
       " 'join': 862,\n",
       " 'cafe': 189,\n",
       " 'month': 1112,\n",
       " 'end': 495,\n",
       " 'many': 1032,\n",
       " 'tell': 1670,\n",
       " 'plan': 1286,\n",
       " 'hey': 759,\n",
       " 'ah': 24,\n",
       " 'outta': 1248,\n",
       " 'congrats': 334,\n",
       " 'make': 1023,\n",
       " 'fall': 535,\n",
       " 'actually': 10,\n",
       " 'quite': 1366,\n",
       " 'lucky': 1013,\n",
       " 'dad': 389,\n",
       " 'ask': 76,\n",
       " 'fetch': 551,\n",
       " 'already': 40,\n",
       " 'happened': 737,\n",
       " 'mo': 1091,\n",
       " 'know': 886,\n",
       " 'fancy': 537,\n",
       " 'find': 561,\n",
       " 'someone know': 1564,\n",
       " 'easy': 481,\n",
       " 'selected': 1483,\n",
       " 'mean': 1049,\n",
       " 'movie': 1122,\n",
       " 'music': 1137,\n",
       " 'gift': 645,\n",
       " 'voucher': 1851,\n",
       " 'starting': 1602,\n",
       " 'word': 1941,\n",
       " 'draw': 458,\n",
       " 'tscs': 1764,\n",
       " 'www': 1960,\n",
       " 'ldew': 919,\n",
       " 'com': 315,\n",
       " 'age': 22,\n",
       " 'gift voucher': 646,\n",
       " 'every week': 516,\n",
       " 'txt word': 1777,\n",
       " 'www ldew': 1963,\n",
       " 'ldew com': 920,\n",
       " 'www ldew com': 1964,\n",
       " 'wan': 1862,\n",
       " 'meet': 1054,\n",
       " 'rest': 1420,\n",
       " 'project': 1352,\n",
       " 'going': 665,\n",
       " 'wan meet': 1864,\n",
       " 'freemsg': 602,\n",
       " 'claim': 280,\n",
       " 'message': 1061,\n",
       " 'text': 1680,\n",
       " 'use': 1826,\n",
       " 'mobile': 1094,\n",
       " 'mate': 1040,\n",
       " 'etc': 507,\n",
       " 'wk': 1931,\n",
       " 'la': 888,\n",
       " 'remove': 1405,\n",
       " 'stop': 1611,\n",
       " 'claim ur': 286,\n",
       " 'ur mate': 1809,\n",
       " 'let': 938,\n",
       " 'guide': 722,\n",
       " 'never': 1166,\n",
       " 'world': 1946,\n",
       " 'via': 1840,\n",
       " 'coming': 324,\n",
       " 'tonight': 1738,\n",
       " 'double': 454,\n",
       " 'prob': 1348,\n",
       " 'welcome': 1904,\n",
       " 'sex': 1505,\n",
       " 'dogging': 446,\n",
       " 'club': 294,\n",
       " 'unsubscribe': 1799,\n",
       " 'service': 1501,\n",
       " 'reply': 1409,\n",
       " 'reply stop': 1412,\n",
       " 'keeping': 876,\n",
       " 'away': 102,\n",
       " 'since': 1532,\n",
       " 'broke': 173,\n",
       " 'machan': 1018,\n",
       " 'go': 653,\n",
       " 'gym': 724,\n",
       " 'wil': 1917,\n",
       " 'late': 906,\n",
       " 'goodnight': 684,\n",
       " 'thanks': 1690,\n",
       " 'best': 131,\n",
       " 'line': 953,\n",
       " 'said': 1453,\n",
       " 'till': 1715,\n",
       " 'forget': 584,\n",
       " 'cannot': 236,\n",
       " 'gn': 652,\n",
       " 'wait till': 1856,\n",
       " 'den': 418,\n",
       " 'plus': 1302,\n",
       " 'lor': 982,\n",
       " 'workin': 1944,\n",
       " 'oso': 1244,\n",
       " 'orchard': 1240,\n",
       " 'place': 1285,\n",
       " 'liao': 942,\n",
       " 'studying': 1625,\n",
       " 'lazy': 918,\n",
       " 'mode': 1105,\n",
       " 'credit': 368,\n",
       " 'http': 804,\n",
       " 'http www': 805,\n",
       " 'oh': 1214,\n",
       " 'asked': 78,\n",
       " 'haha': 728,\n",
       " 'care': 242,\n",
       " 'take care': 1653,\n",
       " 'inviting': 846,\n",
       " 'friend': 607,\n",
       " 'see': 1475,\n",
       " 'ac': 3,\n",
       " 'frnd': 612,\n",
       " 'inviting friend': 847,\n",
       " 'friend reply': 608,\n",
       " 'reply yes': 1413,\n",
       " 'yes see': 1989,\n",
       " 'see www': 1477,\n",
       " 'www sm': 1965,\n",
       " 'sm ac': 1554,\n",
       " 'stop send': 1614,\n",
       " 'send stop': 1494,\n",
       " 'stop frnd': 1613,\n",
       " 'inviting friend reply': 848,\n",
       " 'friend reply yes': 609,\n",
       " 'yes see www': 1990,\n",
       " 'see www sm': 1478,\n",
       " 'www sm ac': 1966,\n",
       " 'stop send stop': 1615,\n",
       " 'send stop frnd': 1495,\n",
       " 'eh': 490,\n",
       " 'lar': 899,\n",
       " 'dont': 450,\n",
       " 'eating': 486,\n",
       " 'pls dont': 1300,\n",
       " 'aha': 25,\n",
       " 'pussy': 1356,\n",
       " 'waiting': 1857,\n",
       " 'waiting call': 1858,\n",
       " 'none': 1190,\n",
       " 'house': 799,\n",
       " 'havent': 750,\n",
       " 'shopping': 1514,\n",
       " 'juz': 869,\n",
       " 'arrive': 69,\n",
       " 'reaching': 1382,\n",
       " 'soon': 1572,\n",
       " 'okay': 1220,\n",
       " 'weekend': 1899,\n",
       " 'leh': 933,\n",
       " 'wot': 1950,\n",
       " 'nite': 1182,\n",
       " 'til': 1714,\n",
       " 'thought': 1708,\n",
       " 'opportunity': 1235,\n",
       " 'need': 1157,\n",
       " 'detail': 421,\n",
       " 'online': 1226,\n",
       " 'job': 860,\n",
       " 'thing': 1698,\n",
       " 'exam': 523,\n",
       " 'march': 1034,\n",
       " 'ive': 856,\n",
       " 'gotta': 691,\n",
       " 'bit': 139,\n",
       " 'worried': 1947,\n",
       " 'evening': 512,\n",
       " 'ttyl': 1766,\n",
       " 'good evening': 676,\n",
       " 'disturb': 440,\n",
       " 'talk': 1656,\n",
       " 'shit': 1511,\n",
       " 'decided': 409,\n",
       " 'second': 1471,\n",
       " 'playing': 1292,\n",
       " 'live': 962,\n",
       " 'anymore': 50,\n",
       " 'al': 34,\n",
       " 'moan': 1092,\n",
       " 'wrong': 1958,\n",
       " 'fault': 546,\n",
       " 'de': 402,\n",
       " 'bother': 156,\n",
       " 'hav': 749,\n",
       " 'xx': 1973,\n",
       " 'fuck': 614,\n",
       " 'family': 536,\n",
       " 'island': 854,\n",
       " 'leaving': 929,\n",
       " 'alone': 38,\n",
       " 'well': 1905,\n",
       " 'ya': 1977,\n",
       " 'though': 1707,\n",
       " 'friday': 606,\n",
       " 'dunno': 476,\n",
       " 'hell': 756,\n",
       " 'another': 48,\n",
       " 'asking': 80,\n",
       " 'excuse': 526,\n",
       " 'hear': 752,\n",
       " 'scream': 1466,\n",
       " 'minute': 1078,\n",
       " 'gt minute': 708,\n",
       " 'lt gt minute': 1006,\n",
       " 'using': 1830,\n",
       " 'missed': 1085,\n",
       " 'missed call': 1086,\n",
       " 'connection': 337,\n",
       " 'decimal': 410,\n",
       " 'bill': 136,\n",
       " 'lt decimal': 999,\n",
       " 'decimal gt': 411,\n",
       " 'lt decimal gt': 1000,\n",
       " 'si': 1525,\n",
       " 'ill': 824,\n",
       " 'doesnt': 444,\n",
       " 'maybe': 1047,\n",
       " 'sort': 1578,\n",
       " 'invited': 844,\n",
       " 'tho': 1706,\n",
       " 'happen': 736,\n",
       " 'taking': 1655,\n",
       " 'game': 622,\n",
       " 'monday': 1110,\n",
       " 'feeling': 549,\n",
       " 'even': 511,\n",
       " 'hour': 798,\n",
       " 'sweet': 1647,\n",
       " 'dream': 463,\n",
       " 'sweet dream': 1648,\n",
       " 'right': 1426,\n",
       " 'drop': 467,\n",
       " 'email': 494,\n",
       " 'valentine': 1833,\n",
       " 'special': 1586,\n",
       " 'quiz': 1367,\n",
       " 'partner': 1257,\n",
       " 'trip': 1754,\n",
       " 'rcvd': 1376,\n",
       " 'custcare': 380,\n",
       " 'valentine day': 1834,\n",
       " 'send go': 1492,\n",
       " 'go msg': 658,\n",
       " 'msg rcvd': 1132,\n",
       " 'thats': 1695,\n",
       " 'bad': 108,\n",
       " 'eat': 484,\n",
       " 'wont': 1940,\n",
       " 'play': 1288,\n",
       " 'driving': 466,\n",
       " 'sorry da': 1577,\n",
       " 'awesome': 103,\n",
       " 'bus': 183,\n",
       " 'head': 751,\n",
       " 'dey': 422,\n",
       " 'shall': 1507,\n",
       " 'buy': 186,\n",
       " 'one': 1223,\n",
       " 'dear': 405,\n",
       " 'ha': 725,\n",
       " 'must': 1138,\n",
       " 'walk': 1860,\n",
       " 'seems': 1481,\n",
       " 'first': 570,\n",
       " 'life': 944,\n",
       " 'cr': 363,\n",
       " 'tomo': 1732,\n",
       " 'would': 1951,\n",
       " 'normal': 1194,\n",
       " 'seeing': 1479,\n",
       " 'tuesday': 1767,\n",
       " 'man': 1031,\n",
       " 'save': 1459,\n",
       " 'hee': 755,\n",
       " 'contact': 338,\n",
       " 'show': 1517,\n",
       " 'prize': 1338,\n",
       " 'guaranteed': 709,\n",
       " 'code': 300,\n",
       " 'valid': 1835,\n",
       " 'urgent trying': 1823,\n",
       " 'trying contact': 1761,\n",
       " 'contact last': 342,\n",
       " 'last weekend': 904,\n",
       " 'weekend draw': 1900,\n",
       " 'draw show': 459,\n",
       " 'show prize': 1518,\n",
       " 'prize guaranteed': 1342,\n",
       " 'guaranteed call': 710,\n",
       " 'call claim': 196,\n",
       " 'claim code': 282,\n",
       " 'code valid': 302,\n",
       " 'urgent trying contact': 1824,\n",
       " 'trying contact last': 1762,\n",
       " 'contact last weekend': 343,\n",
       " 'last weekend draw': 905,\n",
       " 'weekend draw show': 1901,\n",
       " 'draw show prize': 460,\n",
       " 'show prize guaranteed': 1519,\n",
       " 'prize guaranteed call': 1343,\n",
       " 'guaranteed call claim': 711,\n",
       " 'claim code valid': 283,\n",
       " 'customer': 381,\n",
       " 'pm': 1305,\n",
       " 'call customer': 197,\n",
       " 'customer service': 382,\n",
       " 'service representative': 1503,\n",
       " 'guaranteed cash': 713,\n",
       " 'cash prize': 250,\n",
       " 'please call customer': 1295,\n",
       " 'call customer service': 198,\n",
       " 'customer service representative': 384,\n",
       " 'guaranteed cash prize': 714,\n",
       " 'match': 1037,\n",
       " 'started': 1601,\n",
       " 'india': 834,\n",
       " 'flat': 576,\n",
       " 'pick': 1279,\n",
       " 'town': 1748,\n",
       " 'moro': 1115,\n",
       " 'role': 1435,\n",
       " 'others': 1245,\n",
       " 'hit': 769,\n",
       " 'left': 931,\n",
       " 'funny': 619,\n",
       " 'stupid': 1627,\n",
       " 'anything': 52,\n",
       " 'tell anything': 1671,\n",
       " 'mm': 1089,\n",
       " 'umma': 1787,\n",
       " 'later': 907,\n",
       " 'together': 1730,\n",
       " 'thank': 1689,\n",
       " 'doc': 442,\n",
       " 'gave': 625,\n",
       " 'pain': 1252,\n",
       " 'med': 1051,\n",
       " 'yet': 1993,\n",
       " 'kiss': 884,\n",
       " 'mom': 1107,\n",
       " 'missing': 1087,\n",
       " 'ring': 1427,\n",
       " 'tired': 1722,\n",
       " 'pete': 1275,\n",
       " 'call tomorrow': 220,\n",
       " 'pub': 1354,\n",
       " 'high': 768,\n",
       " 'unsub': 1798,\n",
       " 'sp': 1581,\n",
       " 'nd': 1149,\n",
       " 'tried': 1752,\n",
       " 'pound': 1319,\n",
       " 'per': 1266,\n",
       " 'bt': 176,\n",
       " 'national': 1145,\n",
       " 'rate': 1373,\n",
       " 'nd time': 1153,\n",
       " 'time tried': 1719,\n",
       " 'tried contact': 1753,\n",
       " 'prize claim': 1340,\n",
       " 'claim easy': 284,\n",
       " 'easy call': 482,\n",
       " 'call per': 216,\n",
       " 'per minute': 1269,\n",
       " 'minute bt': 1079,\n",
       " 'bt national': 177,\n",
       " 'national rate': 1146,\n",
       " 'nd time tried': 1154,\n",
       " 'time tried contact': 1720,\n",
       " 'prize claim easy': 1341,\n",
       " 'claim easy call': 285,\n",
       " 'easy call per': 483,\n",
       " 'call per minute': 218,\n",
       " 'per minute bt': 1270,\n",
       " 'minute bt national': 1080,\n",
       " 'bt national rate': 178,\n",
       " 'boytoy': 167,\n",
       " 'made': 1020,\n",
       " 'visit': 1846,\n",
       " 'hope nice': 791,\n",
       " 'come home': 321,\n",
       " 'tv': 1769,\n",
       " 'flower': 578,\n",
       " 'chance': 260,\n",
       " 'chance win': 261,\n",
       " 'win cash': 1920,\n",
       " 'let know': 940,\n",
       " 'cheer': 273,\n",
       " 'came': 230,\n",
       " 'slept': 1550,\n",
       " 'yest': 1991,\n",
       " 'wake': 1859,\n",
       " 'hmm': 773,\n",
       " 'news': 1174,\n",
       " 'park': 1255,\n",
       " 'balance': 111,\n",
       " 'question': 1363,\n",
       " 'girl': 647,\n",
       " 'answer': 49,\n",
       " 'luck': 1012,\n",
       " 'good luck': 679,\n",
       " 'yar': 1979,\n",
       " 'real': 1386,\n",
       " 'go lor': 657,\n",
       " 'little': 961,\n",
       " 'ahead': 26,\n",
       " 'good time': 682,\n",
       " 'sky': 1545,\n",
       " 'raining': 1369,\n",
       " 'run': 1445,\n",
       " 'turn': 1768,\n",
       " 'set': 1504,\n",
       " 'village': 1844,\n",
       " 'near': 1155,\n",
       " 'roger': 1434,\n",
       " 'hr': 802,\n",
       " 'contact today': 344,\n",
       " 'today draw': 1726,\n",
       " 'call land': 205,\n",
       " 'land line': 892,\n",
       " 'line claim': 954,\n",
       " 'claim valid': 287,\n",
       " 'valid hr': 1836,\n",
       " 'trying contact today': 1763,\n",
       " 'contact today draw': 345,\n",
       " 'today draw show': 1727,\n",
       " 'guaranteed call land': 712,\n",
       " 'call land line': 206,\n",
       " 'land line claim': 893,\n",
       " 'line claim valid': 955,\n",
       " 'claim valid hr': 288,\n",
       " 'winner': 1924,\n",
       " 'specially': 1588,\n",
       " 'receive': 1392,\n",
       " 'award': 97,\n",
       " 'speak': 1582,\n",
       " 'operator': 1232,\n",
       " 'cost': 355,\n",
       " 'specially selected': 1589,\n",
       " 'selected receive': 1484,\n",
       " 'speak live': 1583,\n",
       " 'live operator': 963,\n",
       " 'operator claim': 1233,\n",
       " 'claim call': 281,\n",
       " 'specially selected receive': 1590,\n",
       " 'speak live operator': 1584,\n",
       " 'order': 1241,\n",
       " 'content': 349,\n",
       " 'goto': 690,\n",
       " 'wap': 1874,\n",
       " 'menu': 1059,\n",
       " 'ur mobile': 1811,\n",
       " 'happy': 741,\n",
       " 'gay': 626,\n",
       " 'chat': 268,\n",
       " 'photo': 1277,\n",
       " 'min': 1067,\n",
       " 'gay chat': 627,\n",
       " 'call min': 210,\n",
       " 'min stop': 1072,\n",
       " 'stop text': 1616,\n",
       " 'text call': 1682,\n",
       " 'call min stop': 211,\n",
       " 'min stop text': 1073,\n",
       " 'stop text call': 1617,\n",
       " 'per min': 1267,\n",
       " 'call per min': 217,\n",
       " 'address': 13,\n",
       " 'student': 1623,\n",
       " 'aft': 20,\n",
       " 'mine': 1077,\n",
       " 'mmm': 1090,\n",
       " 'smile': 1556,\n",
       " 'private': 1335,\n",
       " 'account': 5,\n",
       " 'statement': 1603,\n",
       " 'bonus': 147,\n",
       " 'point': 1311,\n",
       " 'identifier': 819,\n",
       " 'expires': 529,\n",
       " 'private account': 1336,\n",
       " 'account statement': 6,\n",
       " 'statement show': 1604,\n",
       " 'call identifier': 201,\n",
       " 'identifier code': 820,\n",
       " 'code expires': 301,\n",
       " 'private account statement': 1337,\n",
       " 'account statement show': 7,\n",
       " 'call identifier code': 202,\n",
       " 'identifier code expires': 821,\n",
       " 'shop': 1513,\n",
       " 'either': 491,\n",
       " 'ntt': 1197,\n",
       " 'vary': 1838,\n",
       " 'cost ppm': 356,\n",
       " 'super': 1639,\n",
       " 'timing': 1721,\n",
       " 'guy': 723,\n",
       " 'try': 1759,\n",
       " 'gr': 692,\n",
       " 'gr day': 693,\n",
       " 'babe': 104,\n",
       " 'across': 8,\n",
       " 'sea': 1468,\n",
       " 'babe go': 105,\n",
       " 'go day': 655,\n",
       " 'across sea': 9,\n",
       " 'th': 1688,\n",
       " 'subscription': 1629,\n",
       " 'ringtone': 1428,\n",
       " 'uk': 1784,\n",
       " 'charged': 265,\n",
       " 'confirm': 333,\n",
       " 'replying': 1414,\n",
       " 'mobile charged': 1097,\n",
       " 'watching': 1880,\n",
       " 'watching tv': 1881,\n",
       " 'safe': 1452,\n",
       " 'nigeria': 1180,\n",
       " 'wish': 1925,\n",
       " 'happiness': 740,\n",
       " 'moment': 1108,\n",
       " 'fool': 582,\n",
       " 'back': 107,\n",
       " 'dry': 470,\n",
       " 'person': 1273,\n",
       " 'listen': 960,\n",
       " 'lt time': 1007,\n",
       " 'time gt': 1718,\n",
       " 'lt time gt': 1008,\n",
       " 'joke': 864,\n",
       " 'situation': 1541,\n",
       " 'ha ha': 726,\n",
       " 'meant': 1050,\n",
       " 'bank': 114,\n",
       " 'dollar': 448,\n",
       " 'charge': 264,\n",
       " 'trust': 1757,\n",
       " 'sending': 1496,\n",
       " 'gt dollar': 704,\n",
       " 'lt gt dollar': 1003,\n",
       " 'felt': 550,\n",
       " 'night': 1181,\n",
       " 'sat': 1456,\n",
       " 'god': 663,\n",
       " 'power': 1322,\n",
       " 'always': 43,\n",
       " 'gud': 717,\n",
       " 'ni': 1177,\n",
       " 'ur life': 1808,\n",
       " 'gud ni': 719,\n",
       " 'half': 731,\n",
       " 'saying': 1463,\n",
       " 'pay': 1261,\n",
       " 'bored': 153,\n",
       " 'wanna': 1867,\n",
       " 'idk': 822,\n",
       " 'sir': 1535,\n",
       " 'vote': 1850,\n",
       " 'loving': 997,\n",
       " 'holder': 778,\n",
       " 'pc': 1264,\n",
       " 'apply': 58,\n",
       " 'dear voucher': 407,\n",
       " 'voucher holder': 1852,\n",
       " 'co uk': 298,\n",
       " 'dear voucher holder': 408,\n",
       " 'rakhesh': 1370,\n",
       " 'loan': 965,\n",
       " 'call free': 200,\n",
       " 'free text': 601,\n",
       " 'text back': 1681,\n",
       " 'er': 505,\n",
       " 'sit': 1538,\n",
       " 'wen': 1907,\n",
       " 'eatin': 485,\n",
       " 'goin': 664,\n",
       " 'huh': 807,\n",
       " 'watch': 1879,\n",
       " 'beautiful': 124,\n",
       " 'waste': 1876,\n",
       " 'goodmorning': 683,\n",
       " 'kick': 880,\n",
       " 'lei': 934,\n",
       " 'mon': 1109,\n",
       " 'cbe': 254,\n",
       " 'chennai': 274,\n",
       " 'quick': 1364,\n",
       " 'hi': 764,\n",
       " 'whats': 1911,\n",
       " 'problem': 1350,\n",
       " 'least': 927,\n",
       " 'dear call': 406,\n",
       " 'asap': 73,\n",
       " 'definitely': 414,\n",
       " 'mayb': 1046,\n",
       " 'xchat': 1970,\n",
       " 'final': 557,\n",
       " 'attempt': 84,\n",
       " 'invited xchat': 845,\n",
       " 'final attempt': 558,\n",
       " 'attempt contact': 85,\n",
       " 'txt chat': 1773,\n",
       " 'final attempt contact': 559,\n",
       " 'plz': 1304,\n",
       " 'daddy': 390,\n",
       " 'interested': 841,\n",
       " 'buying': 187,\n",
       " 'else': 492,\n",
       " 'next week': 1176,\n",
       " 'caller': 222,\n",
       " 'caller prize': 223,\n",
       " 'awarded': 99,\n",
       " 'urgent mobile': 1820,\n",
       " 'mobile awarded': 1095,\n",
       " 'awarded bonus': 100,\n",
       " 'bonus caller': 148,\n",
       " 'contact call': 339,\n",
       " 'mobile awarded bonus': 1096,\n",
       " 'awarded bonus caller': 101,\n",
       " 'bonus caller prize': 149,\n",
       " 'date': 395,\n",
       " 'fullonsms': 617,\n",
       " 'treat': 1751,\n",
       " 'respect': 1417,\n",
       " 'sitting': 1540,\n",
       " 'pizza': 1284,\n",
       " 'yep': 1986,\n",
       " 'pretty': 1329,\n",
       " 'naughty': 1148,\n",
       " 'better': 132,\n",
       " 'flirt': 577,\n",
       " 'gettin': 640,\n",
       " 'hurt': 811,\n",
       " 'nyt': 1208,\n",
       " 'gud nyt': 720,\n",
       " 'an': 45,\n",
       " 'bslvyl': 175,\n",
       " 'noe': 1184,\n",
       " 'dat': 394,\n",
       " 'sell': 1488,\n",
       " 'close': 292,\n",
       " 'wat time': 1878,\n",
       " 'anything lor': 53,\n",
       " 'lor dun': 983,\n",
       " 'dun wan': 475,\n",
       " 'lunch': 1016,\n",
       " 'hmv': 775,\n",
       " 'info': 836,\n",
       " 'probably': 1349,\n",
       " 'complimentary': 331,\n",
       " 'ibiza': 813,\n",
       " 'sk': 1542,\n",
       " 'wp': 1954,\n",
       " 'landline complimentary': 897,\n",
       " 'ibiza holiday': 814,\n",
       " 'box sk': 164,\n",
       " 'sk wp': 1543,\n",
       " 'wp ppm': 1955,\n",
       " 'call landline complimentary': 208,\n",
       " 'ibiza holiday cash': 815,\n",
       " 'box sk wp': 165,\n",
       " 'sk wp ppm': 1544,\n",
       " 'btw': 179,\n",
       " 'anyone': 51,\n",
       " 'random': 1372,\n",
       " 'dude': 471,\n",
       " 'dis': 437,\n",
       " 'fr': 589,\n",
       " 'tone': 1734,\n",
       " 'polys': 1315,\n",
       " 'yr': 1998,\n",
       " 'new tone': 1170,\n",
       " 'unless': 1795,\n",
       " 'eerie': 487,\n",
       " 'rply': 1443,\n",
       " 'title': 1723,\n",
       " 'getzed': 642,\n",
       " 'nokia tone': 1189,\n",
       " 'www getzed': 1961,\n",
       " 'getzed co': 643,\n",
       " 'uk pobox': 1785,\n",
       " 'www getzed co': 1962,\n",
       " 'getzed co uk': 644,\n",
       " 'co uk pobox': 299,\n",
       " 'uk pobox wq': 1786,\n",
       " 'open': 1231,\n",
       " 'return': 1422,\n",
       " 'ticket': 1713,\n",
       " 'kerala': 878,\n",
       " 'go back': 654,\n",
       " 'semester': 1490,\n",
       " 'happy new': 743,\n",
       " 'hope good': 789,\n",
       " 'happy new year': 744,\n",
       " 'forgot': 585,\n",
       " 'award call': 98,\n",
       " 'school': 1465,\n",
       " 'ok lor': 1218,\n",
       " 'like lt': 950,\n",
       " 'like lt gt': 951,\n",
       " 'pleasure': 1298,\n",
       " 'tea': 1663,\n",
       " 'pleased': 1297,\n",
       " 'qatar': 1359,\n",
       " 'indian': 835,\n",
       " 'buck': 180,\n",
       " 'lt gt buck': 1002,\n",
       " 'wana': 1866,\n",
       " 'luv': 1017,\n",
       " 'bed': 125,\n",
       " 'alright': 41,\n",
       " 'doin': 447,\n",
       " 'nearly': 1156,\n",
       " 'hook': 786,\n",
       " 'un': 1788,\n",
       " 'redeemed': 1397,\n",
       " 'show un': 1520,\n",
       " 'un redeemed': 1789,\n",
       " 'redeemed point': 1398,\n",
       " 'point call': 1312,\n",
       " 'statement show un': 1605,\n",
       " 'show un redeemed': 1521,\n",
       " 'un redeemed point': 1790,\n",
       " 'redeemed point call': 1399,\n",
       " 'point call identifier': 1313,\n",
       " 'colour': 312,\n",
       " 'euro': 509,\n",
       " 'flag': 575,\n",
       " 'click': 291,\n",
       " 'following': 579,\n",
       " 'tone ur': 1737,\n",
       " 'change': 262,\n",
       " 'one day': 1224,\n",
       " 'hl': 771,\n",
       " 'ldn': 921,\n",
       " 'row hl': 1441,\n",
       " 'hl ldn': 772,\n",
       " 'land row hl': 895,\n",
       " 'row hl ldn': 1442,\n",
       " 'added': 12,\n",
       " 'grin': 701,\n",
       " 'buzz': 188,\n",
       " 'as': 72,\n",
       " 'wine': 1923,\n",
       " 'saturday': 1457,\n",
       " 'sunday': 1636,\n",
       " 'net': 1160,\n",
       " 'available': 90,\n",
       " 'arcade': 62,\n",
       " 'press': 1328,\n",
       " 'std': 1608,\n",
       " 'term': 1678,\n",
       " 'purchase': 1355,\n",
       " 'sad': 1447,\n",
       " 'touch': 1745,\n",
       " 'keep touch': 875,\n",
       " 'forum': 586,\n",
       " 'post': 1317,\n",
       " 'fixed': 574,\n",
       " 'hopefully': 792,\n",
       " 'didnt': 423,\n",
       " 'film': 556,\n",
       " 'computer': 332,\n",
       " 'attempt contact call': 86,\n",
       " ...}"
      ]
     },
     "execution_count": 21,
     "metadata": {},
     "output_type": "execute_result"
    }
   ],
   "source": [
    "cv.vocabulary_ # now you can see we have taken words with 1 word to 3 word combination for max_features"
   ]
  },
  {
   "cell_type": "markdown",
   "id": "4ce44be6",
   "metadata": {},
   "source": [
    "#### 2) TF- IDF Vectorization"
   ]
  },
  {
   "cell_type": "code",
   "execution_count": 22,
   "id": "a6acb48b",
   "metadata": {},
   "outputs": [],
   "source": [
    "from sklearn.feature_extraction.text import TfidfVectorizer\n",
    "tfidf = TfidfVectorizer(max_features=2000,ngram_range=(1,3))"
   ]
  },
  {
   "cell_type": "code",
   "execution_count": 23,
   "id": "22925f8d",
   "metadata": {},
   "outputs": [],
   "source": [
    "X_train_tfidf = tfidf.fit_transform(X_train).toarray()\n",
    "X_test_tfidf = tfidf.transform(X_test).toarray()"
   ]
  },
  {
   "cell_type": "code",
   "execution_count": 24,
   "id": "c8eeab51",
   "metadata": {},
   "outputs": [
    {
     "data": {
      "text/plain": [
       "array([[0., 0., 0., ..., 0., 0., 0.],\n",
       "       [0., 0., 0., ..., 0., 0., 0.],\n",
       "       [0., 0., 0., ..., 0., 0., 0.],\n",
       "       ...,\n",
       "       [0., 0., 0., ..., 0., 0., 0.],\n",
       "       [0., 0., 0., ..., 0., 0., 0.],\n",
       "       [0., 0., 0., ..., 0., 0., 0.]])"
      ]
     },
     "execution_count": 24,
     "metadata": {},
     "output_type": "execute_result"
    }
   ],
   "source": [
    "X_train_tfidf"
   ]
  },
  {
   "cell_type": "code",
   "execution_count": 25,
   "id": "7466fd64",
   "metadata": {},
   "outputs": [
    {
     "name": "stdout",
     "output_type": "stream",
     "text": [
      "(3618, 2000)\n",
      "(1551, 2000)\n"
     ]
    }
   ],
   "source": [
    "print(X_train_tfidf.shape)\n",
    "print(X_test_tfidf.shape)"
   ]
  },
  {
   "cell_type": "code",
   "execution_count": 26,
   "id": "1513a837",
   "metadata": {},
   "outputs": [
    {
     "data": {
      "text/plain": [
       "{'get': 635,\n",
       " 'pic': 1278,\n",
       " 'msg': 1130,\n",
       " 'phone': 1276,\n",
       " 'number': 1202,\n",
       " 'done': 449,\n",
       " 'sorry': 1574,\n",
       " 'hope': 788,\n",
       " 'next': 1175,\n",
       " 'give': 648,\n",
       " 'everything': 522,\n",
       " 'want': 1868,\n",
       " 'remember': 1403,\n",
       " 'around': 67,\n",
       " 'move': 1121,\n",
       " 'leave': 928,\n",
       " 'key': 879,\n",
       " 'thanx': 1694,\n",
       " 'lot': 988,\n",
       " 'yup': 1999,\n",
       " 'wun': 1959,\n",
       " 'believe': 130,\n",
       " 'wat': 1877,\n",
       " 'really': 1387,\n",
       " 'neva': 1165,\n",
       " 'sent': 1498,\n",
       " 'shuhui': 1524,\n",
       " 'lady': 889,\n",
       " 'street': 1621,\n",
       " 'sheet': 1509,\n",
       " 'hello': 757,\n",
       " 'site': 1539,\n",
       " 'download': 457,\n",
       " 'song': 1568,\n",
       " 'urgent': 1817,\n",
       " 'pls': 1299,\n",
       " 'read': 1383,\n",
       " 'twice': 1770,\n",
       " 'people': 1265,\n",
       " 'spend': 1591,\n",
       " 'time': 1716,\n",
       " 'money': 1111,\n",
       " 'spent': 1592,\n",
       " 'good': 672,\n",
       " 'morning': 1114,\n",
       " 'keep': 873,\n",
       " 'smiling': 1557,\n",
       " 'good morning': 680,\n",
       " 'someone': 1563,\n",
       " 'smoke': 1558,\n",
       " 'every': 514,\n",
       " 'last': 900,\n",
       " 'two': 1771,\n",
       " 'week': 1897,\n",
       " 'calling': 226,\n",
       " 'texting': 1687,\n",
       " 'wanted': 1873,\n",
       " 'every time': 515,\n",
       " 'dun': 473,\n",
       " 'thk': 1705,\n",
       " 'told': 1731,\n",
       " 'nothing': 1195,\n",
       " 'making': 1029,\n",
       " 'sure': 1643,\n",
       " 'everybody': 520,\n",
       " 'great': 696,\n",
       " 'party': 1258,\n",
       " 'wife': 1916,\n",
       " 'knew': 885,\n",
       " 'road': 1432,\n",
       " 'cant': 237,\n",
       " 'txt': 1772,\n",
       " 'ok': 1216,\n",
       " 'april': 60,\n",
       " 'wait': 1854,\n",
       " 'cant wait': 239,\n",
       " 'come': 318,\n",
       " 'tomorrow': 1733,\n",
       " 'ur': 1802,\n",
       " 'help': 758,\n",
       " 'work': 1943,\n",
       " 'cool': 351,\n",
       " 'lt': 998,\n",
       " 'gt': 703,\n",
       " 'inch': 833,\n",
       " 'long': 974,\n",
       " 'like': 947,\n",
       " 'big': 135,\n",
       " 'lt gt': 1001,\n",
       " 'nice': 1178,\n",
       " 'day': 398,\n",
       " 'went': 1908,\n",
       " 'home': 783,\n",
       " 'early': 480,\n",
       " 'feel': 547,\n",
       " 'fine': 567,\n",
       " 'nice day': 1179,\n",
       " 'home early': 784,\n",
       " 'im': 825,\n",
       " 'gonna': 671,\n",
       " 'miss': 1082,\n",
       " 'much': 1135,\n",
       " 'miss much': 1084,\n",
       " 'derek': 420,\n",
       " 'class': 289,\n",
       " 'busy': 185,\n",
       " 'trying': 1760,\n",
       " 'finish': 568,\n",
       " 'new': 1167,\n",
       " 'year': 1984,\n",
       " 'looking': 979,\n",
       " 'finally': 560,\n",
       " 'meeting': 1055,\n",
       " 'new year': 1173,\n",
       " 'mind': 1076,\n",
       " 'giving': 650,\n",
       " 'lift': 945,\n",
       " 'co': 296,\n",
       " 'got': 686,\n",
       " 'car': 240,\n",
       " 'today': 1725,\n",
       " 'also': 42,\n",
       " 'company': 328,\n",
       " 'take': 1652,\n",
       " 'way': 1885,\n",
       " 'may': 1045,\n",
       " 'stuff': 1626,\n",
       " 'picked': 1280,\n",
       " 'receipt': 1391,\n",
       " 'something': 1565,\n",
       " 'earlier': 479,\n",
       " 'yeah': 1982,\n",
       " 'imma': 827,\n",
       " 'cause': 253,\n",
       " 'jay': 858,\n",
       " 'drug': 469,\n",
       " 'working': 1945,\n",
       " 'support': 1640,\n",
       " 'voice': 1849,\n",
       " 'process': 1351,\n",
       " 'jus': 868,\n",
       " 'rite': 1431,\n",
       " 'send': 1491,\n",
       " 'wonderful': 1938,\n",
       " 'guess': 721,\n",
       " 'important': 831,\n",
       " 'tmr': 1724,\n",
       " 'think': 1699,\n",
       " 'book': 151,\n",
       " 'still': 1609,\n",
       " 'da': 388,\n",
       " 'please': 1293,\n",
       " 'call': 192,\n",
       " 'please call': 1294,\n",
       " 'ready': 1385,\n",
       " 'yes': 1987,\n",
       " 'fun': 618,\n",
       " 'hp': 801,\n",
       " 'model': 1106,\n",
       " 'say': 1461,\n",
       " 'got lot': 688,\n",
       " 'lol': 973,\n",
       " 'idea': 818,\n",
       " 'sm': 1553,\n",
       " 'auction': 89,\n",
       " 'nokia': 1185,\n",
       " 'win': 1919,\n",
       " 'free': 590,\n",
       " 'part': 1256,\n",
       " 'hg': 761,\n",
       " 'suite': 1631,\n",
       " 'land': 891,\n",
       " 'row': 1440,\n",
       " 'nokia get': 1186,\n",
       " 'win free': 1921,\n",
       " 'take part': 1654,\n",
       " 'hg suite': 762,\n",
       " 'suite land': 1632,\n",
       " 'land row': 894,\n",
       " 'hg suite land': 763,\n",
       " 'suite land row': 1633,\n",
       " 'logo': 972,\n",
       " 'lover': 995,\n",
       " 'name': 1143,\n",
       " 'heart': 754,\n",
       " 'love': 990,\n",
       " 'eg': 488,\n",
       " 'eve': 510,\n",
       " 'yahoo': 1978,\n",
       " 'pobox': 1309,\n",
       " 'wq': 1956,\n",
       " 'pobox wq': 1310,\n",
       " 'landline': 896,\n",
       " 'tenerife': 1675,\n",
       " 'holiday': 779,\n",
       " 'cash': 245,\n",
       " 'await': 92,\n",
       " 'collection': 308,\n",
       " 'sae': 1448,\n",
       " 'po': 1306,\n",
       " 'box': 159,\n",
       " 'wa': 1853,\n",
       " 'ppm': 1324,\n",
       " 'offer': 1210,\n",
       " 'urgent call': 1818,\n",
       " 'call landline': 207,\n",
       " 'tenerife holiday': 1676,\n",
       " 'holiday cash': 780,\n",
       " 'cash await': 246,\n",
       " 'await collection': 93,\n",
       " 'collection sae': 309,\n",
       " 'sae po': 1450,\n",
       " 'po box': 1307,\n",
       " 'urgent call landline': 1819,\n",
       " 'tenerife holiday cash': 1677,\n",
       " 'holiday cash await': 781,\n",
       " 'cash await collection': 247,\n",
       " 'await collection sae': 94,\n",
       " 'collection sae po': 310,\n",
       " 'sae po box': 1451,\n",
       " 'start': 1600,\n",
       " 'join': 862,\n",
       " 'cafe': 189,\n",
       " 'month': 1112,\n",
       " 'end': 495,\n",
       " 'many': 1032,\n",
       " 'tell': 1670,\n",
       " 'plan': 1286,\n",
       " 'hey': 759,\n",
       " 'ah': 24,\n",
       " 'outta': 1248,\n",
       " 'congrats': 334,\n",
       " 'make': 1023,\n",
       " 'fall': 535,\n",
       " 'actually': 10,\n",
       " 'quite': 1366,\n",
       " 'lucky': 1013,\n",
       " 'dad': 389,\n",
       " 'ask': 76,\n",
       " 'fetch': 551,\n",
       " 'already': 40,\n",
       " 'happened': 737,\n",
       " 'mo': 1091,\n",
       " 'know': 886,\n",
       " 'fancy': 537,\n",
       " 'find': 561,\n",
       " 'someone know': 1564,\n",
       " 'easy': 481,\n",
       " 'selected': 1483,\n",
       " 'mean': 1049,\n",
       " 'movie': 1122,\n",
       " 'music': 1137,\n",
       " 'gift': 645,\n",
       " 'voucher': 1851,\n",
       " 'starting': 1602,\n",
       " 'word': 1941,\n",
       " 'draw': 458,\n",
       " 'tscs': 1764,\n",
       " 'www': 1960,\n",
       " 'ldew': 919,\n",
       " 'com': 315,\n",
       " 'age': 22,\n",
       " 'gift voucher': 646,\n",
       " 'every week': 516,\n",
       " 'txt word': 1777,\n",
       " 'www ldew': 1963,\n",
       " 'ldew com': 920,\n",
       " 'www ldew com': 1964,\n",
       " 'wan': 1862,\n",
       " 'meet': 1054,\n",
       " 'rest': 1420,\n",
       " 'project': 1352,\n",
       " 'going': 665,\n",
       " 'wan meet': 1864,\n",
       " 'freemsg': 602,\n",
       " 'claim': 280,\n",
       " 'message': 1061,\n",
       " 'text': 1680,\n",
       " 'use': 1826,\n",
       " 'mobile': 1094,\n",
       " 'mate': 1040,\n",
       " 'etc': 507,\n",
       " 'wk': 1931,\n",
       " 'la': 888,\n",
       " 'remove': 1405,\n",
       " 'stop': 1611,\n",
       " 'claim ur': 286,\n",
       " 'ur mate': 1809,\n",
       " 'let': 938,\n",
       " 'guide': 722,\n",
       " 'never': 1166,\n",
       " 'world': 1946,\n",
       " 'via': 1840,\n",
       " 'coming': 324,\n",
       " 'tonight': 1738,\n",
       " 'double': 454,\n",
       " 'prob': 1348,\n",
       " 'welcome': 1904,\n",
       " 'sex': 1505,\n",
       " 'dogging': 446,\n",
       " 'club': 294,\n",
       " 'unsubscribe': 1799,\n",
       " 'service': 1501,\n",
       " 'reply': 1409,\n",
       " 'reply stop': 1412,\n",
       " 'keeping': 876,\n",
       " 'away': 102,\n",
       " 'since': 1532,\n",
       " 'broke': 173,\n",
       " 'machan': 1018,\n",
       " 'go': 653,\n",
       " 'gym': 724,\n",
       " 'wil': 1917,\n",
       " 'late': 906,\n",
       " 'goodnight': 684,\n",
       " 'thanks': 1690,\n",
       " 'best': 131,\n",
       " 'line': 953,\n",
       " 'said': 1453,\n",
       " 'till': 1715,\n",
       " 'forget': 584,\n",
       " 'cannot': 236,\n",
       " 'gn': 652,\n",
       " 'wait till': 1856,\n",
       " 'den': 418,\n",
       " 'plus': 1302,\n",
       " 'lor': 982,\n",
       " 'workin': 1944,\n",
       " 'oso': 1244,\n",
       " 'orchard': 1240,\n",
       " 'place': 1285,\n",
       " 'liao': 942,\n",
       " 'studying': 1625,\n",
       " 'lazy': 918,\n",
       " 'mode': 1105,\n",
       " 'credit': 368,\n",
       " 'http': 804,\n",
       " 'http www': 805,\n",
       " 'oh': 1214,\n",
       " 'asked': 78,\n",
       " 'haha': 728,\n",
       " 'care': 242,\n",
       " 'take care': 1653,\n",
       " 'inviting': 846,\n",
       " 'friend': 607,\n",
       " 'see': 1475,\n",
       " 'ac': 3,\n",
       " 'frnd': 612,\n",
       " 'inviting friend': 847,\n",
       " 'friend reply': 608,\n",
       " 'reply yes': 1413,\n",
       " 'yes see': 1989,\n",
       " 'see www': 1477,\n",
       " 'www sm': 1965,\n",
       " 'sm ac': 1554,\n",
       " 'stop send': 1614,\n",
       " 'send stop': 1494,\n",
       " 'stop frnd': 1613,\n",
       " 'inviting friend reply': 848,\n",
       " 'friend reply yes': 609,\n",
       " 'yes see www': 1990,\n",
       " 'see www sm': 1478,\n",
       " 'www sm ac': 1966,\n",
       " 'stop send stop': 1615,\n",
       " 'send stop frnd': 1495,\n",
       " 'eh': 490,\n",
       " 'lar': 899,\n",
       " 'dont': 450,\n",
       " 'eating': 486,\n",
       " 'pls dont': 1300,\n",
       " 'aha': 25,\n",
       " 'pussy': 1356,\n",
       " 'waiting': 1857,\n",
       " 'waiting call': 1858,\n",
       " 'none': 1190,\n",
       " 'house': 799,\n",
       " 'havent': 750,\n",
       " 'shopping': 1514,\n",
       " 'juz': 869,\n",
       " 'arrive': 69,\n",
       " 'reaching': 1382,\n",
       " 'soon': 1572,\n",
       " 'okay': 1220,\n",
       " 'weekend': 1899,\n",
       " 'leh': 933,\n",
       " 'wot': 1950,\n",
       " 'nite': 1182,\n",
       " 'til': 1714,\n",
       " 'thought': 1708,\n",
       " 'opportunity': 1235,\n",
       " 'need': 1157,\n",
       " 'detail': 421,\n",
       " 'online': 1226,\n",
       " 'job': 860,\n",
       " 'thing': 1698,\n",
       " 'exam': 523,\n",
       " 'march': 1034,\n",
       " 'ive': 856,\n",
       " 'gotta': 691,\n",
       " 'bit': 139,\n",
       " 'worried': 1947,\n",
       " 'evening': 512,\n",
       " 'ttyl': 1766,\n",
       " 'good evening': 676,\n",
       " 'disturb': 440,\n",
       " 'talk': 1656,\n",
       " 'shit': 1511,\n",
       " 'decided': 409,\n",
       " 'second': 1471,\n",
       " 'playing': 1292,\n",
       " 'live': 962,\n",
       " 'anymore': 50,\n",
       " 'al': 34,\n",
       " 'moan': 1092,\n",
       " 'wrong': 1958,\n",
       " 'fault': 546,\n",
       " 'de': 402,\n",
       " 'bother': 156,\n",
       " 'hav': 749,\n",
       " 'xx': 1973,\n",
       " 'fuck': 614,\n",
       " 'family': 536,\n",
       " 'island': 854,\n",
       " 'leaving': 929,\n",
       " 'alone': 38,\n",
       " 'well': 1905,\n",
       " 'ya': 1977,\n",
       " 'though': 1707,\n",
       " 'friday': 606,\n",
       " 'dunno': 476,\n",
       " 'hell': 756,\n",
       " 'another': 48,\n",
       " 'asking': 80,\n",
       " 'excuse': 526,\n",
       " 'hear': 752,\n",
       " 'scream': 1466,\n",
       " 'minute': 1078,\n",
       " 'gt minute': 708,\n",
       " 'lt gt minute': 1006,\n",
       " 'using': 1830,\n",
       " 'missed': 1085,\n",
       " 'missed call': 1086,\n",
       " 'connection': 337,\n",
       " 'decimal': 410,\n",
       " 'bill': 136,\n",
       " 'lt decimal': 999,\n",
       " 'decimal gt': 411,\n",
       " 'lt decimal gt': 1000,\n",
       " 'si': 1525,\n",
       " 'ill': 824,\n",
       " 'doesnt': 444,\n",
       " 'maybe': 1047,\n",
       " 'sort': 1578,\n",
       " 'invited': 844,\n",
       " 'tho': 1706,\n",
       " 'happen': 736,\n",
       " 'taking': 1655,\n",
       " 'game': 622,\n",
       " 'monday': 1110,\n",
       " 'feeling': 549,\n",
       " 'even': 511,\n",
       " 'hour': 798,\n",
       " 'sweet': 1647,\n",
       " 'dream': 463,\n",
       " 'sweet dream': 1648,\n",
       " 'right': 1426,\n",
       " 'drop': 467,\n",
       " 'email': 494,\n",
       " 'valentine': 1833,\n",
       " 'special': 1586,\n",
       " 'quiz': 1367,\n",
       " 'partner': 1257,\n",
       " 'trip': 1754,\n",
       " 'rcvd': 1376,\n",
       " 'custcare': 380,\n",
       " 'valentine day': 1834,\n",
       " 'send go': 1492,\n",
       " 'go msg': 658,\n",
       " 'msg rcvd': 1132,\n",
       " 'thats': 1695,\n",
       " 'bad': 108,\n",
       " 'eat': 484,\n",
       " 'wont': 1940,\n",
       " 'play': 1288,\n",
       " 'driving': 466,\n",
       " 'sorry da': 1577,\n",
       " 'awesome': 103,\n",
       " 'bus': 183,\n",
       " 'head': 751,\n",
       " 'dey': 422,\n",
       " 'shall': 1507,\n",
       " 'buy': 186,\n",
       " 'one': 1223,\n",
       " 'dear': 405,\n",
       " 'ha': 725,\n",
       " 'must': 1138,\n",
       " 'walk': 1860,\n",
       " 'seems': 1481,\n",
       " 'first': 570,\n",
       " 'life': 944,\n",
       " 'cr': 363,\n",
       " 'tomo': 1732,\n",
       " 'would': 1951,\n",
       " 'normal': 1194,\n",
       " 'seeing': 1479,\n",
       " 'tuesday': 1767,\n",
       " 'man': 1031,\n",
       " 'save': 1459,\n",
       " 'hee': 755,\n",
       " 'contact': 338,\n",
       " 'show': 1517,\n",
       " 'prize': 1338,\n",
       " 'guaranteed': 709,\n",
       " 'code': 300,\n",
       " 'valid': 1835,\n",
       " 'urgent trying': 1823,\n",
       " 'trying contact': 1761,\n",
       " 'contact last': 342,\n",
       " 'last weekend': 904,\n",
       " 'weekend draw': 1900,\n",
       " 'draw show': 459,\n",
       " 'show prize': 1518,\n",
       " 'prize guaranteed': 1342,\n",
       " 'guaranteed call': 710,\n",
       " 'call claim': 196,\n",
       " 'claim code': 282,\n",
       " 'code valid': 302,\n",
       " 'urgent trying contact': 1824,\n",
       " 'trying contact last': 1762,\n",
       " 'contact last weekend': 343,\n",
       " 'last weekend draw': 905,\n",
       " 'weekend draw show': 1901,\n",
       " 'draw show prize': 460,\n",
       " 'show prize guaranteed': 1519,\n",
       " 'prize guaranteed call': 1343,\n",
       " 'guaranteed call claim': 711,\n",
       " 'claim code valid': 283,\n",
       " 'customer': 381,\n",
       " 'pm': 1305,\n",
       " 'call customer': 197,\n",
       " 'customer service': 382,\n",
       " 'service representative': 1503,\n",
       " 'guaranteed cash': 713,\n",
       " 'cash prize': 250,\n",
       " 'please call customer': 1295,\n",
       " 'call customer service': 198,\n",
       " 'customer service representative': 384,\n",
       " 'guaranteed cash prize': 714,\n",
       " 'match': 1037,\n",
       " 'started': 1601,\n",
       " 'india': 834,\n",
       " 'flat': 576,\n",
       " 'pick': 1279,\n",
       " 'town': 1748,\n",
       " 'moro': 1115,\n",
       " 'role': 1435,\n",
       " 'others': 1245,\n",
       " 'hit': 769,\n",
       " 'left': 931,\n",
       " 'funny': 619,\n",
       " 'stupid': 1627,\n",
       " 'anything': 52,\n",
       " 'tell anything': 1671,\n",
       " 'mm': 1089,\n",
       " 'umma': 1787,\n",
       " 'later': 907,\n",
       " 'together': 1730,\n",
       " 'thank': 1689,\n",
       " 'doc': 442,\n",
       " 'gave': 625,\n",
       " 'pain': 1252,\n",
       " 'med': 1051,\n",
       " 'yet': 1993,\n",
       " 'kiss': 884,\n",
       " 'mom': 1107,\n",
       " 'missing': 1087,\n",
       " 'ring': 1427,\n",
       " 'tired': 1722,\n",
       " 'pete': 1275,\n",
       " 'call tomorrow': 220,\n",
       " 'pub': 1354,\n",
       " 'high': 768,\n",
       " 'unsub': 1798,\n",
       " 'sp': 1581,\n",
       " 'nd': 1149,\n",
       " 'tried': 1752,\n",
       " 'pound': 1319,\n",
       " 'per': 1266,\n",
       " 'bt': 176,\n",
       " 'national': 1145,\n",
       " 'rate': 1373,\n",
       " 'nd time': 1153,\n",
       " 'time tried': 1719,\n",
       " 'tried contact': 1753,\n",
       " 'prize claim': 1340,\n",
       " 'claim easy': 284,\n",
       " 'easy call': 482,\n",
       " 'call per': 216,\n",
       " 'per minute': 1269,\n",
       " 'minute bt': 1079,\n",
       " 'bt national': 177,\n",
       " 'national rate': 1146,\n",
       " 'nd time tried': 1154,\n",
       " 'time tried contact': 1720,\n",
       " 'prize claim easy': 1341,\n",
       " 'claim easy call': 285,\n",
       " 'easy call per': 483,\n",
       " 'call per minute': 218,\n",
       " 'per minute bt': 1270,\n",
       " 'minute bt national': 1080,\n",
       " 'bt national rate': 178,\n",
       " 'boytoy': 167,\n",
       " 'made': 1020,\n",
       " 'visit': 1846,\n",
       " 'hope nice': 791,\n",
       " 'come home': 321,\n",
       " 'tv': 1769,\n",
       " 'flower': 578,\n",
       " 'chance': 260,\n",
       " 'chance win': 261,\n",
       " 'win cash': 1920,\n",
       " 'let know': 940,\n",
       " 'cheer': 273,\n",
       " 'came': 230,\n",
       " 'slept': 1550,\n",
       " 'yest': 1991,\n",
       " 'wake': 1859,\n",
       " 'hmm': 773,\n",
       " 'news': 1174,\n",
       " 'park': 1255,\n",
       " 'balance': 111,\n",
       " 'question': 1363,\n",
       " 'girl': 647,\n",
       " 'answer': 49,\n",
       " 'luck': 1012,\n",
       " 'good luck': 679,\n",
       " 'yar': 1979,\n",
       " 'real': 1386,\n",
       " 'go lor': 657,\n",
       " 'little': 961,\n",
       " 'ahead': 26,\n",
       " 'good time': 682,\n",
       " 'sky': 1545,\n",
       " 'raining': 1369,\n",
       " 'run': 1445,\n",
       " 'turn': 1768,\n",
       " 'set': 1504,\n",
       " 'village': 1844,\n",
       " 'near': 1155,\n",
       " 'roger': 1434,\n",
       " 'hr': 802,\n",
       " 'contact today': 344,\n",
       " 'today draw': 1726,\n",
       " 'call land': 205,\n",
       " 'land line': 892,\n",
       " 'line claim': 954,\n",
       " 'claim valid': 287,\n",
       " 'valid hr': 1836,\n",
       " 'trying contact today': 1763,\n",
       " 'contact today draw': 345,\n",
       " 'today draw show': 1727,\n",
       " 'guaranteed call land': 712,\n",
       " 'call land line': 206,\n",
       " 'land line claim': 893,\n",
       " 'line claim valid': 955,\n",
       " 'claim valid hr': 288,\n",
       " 'winner': 1924,\n",
       " 'specially': 1588,\n",
       " 'receive': 1392,\n",
       " 'award': 97,\n",
       " 'speak': 1582,\n",
       " 'operator': 1232,\n",
       " 'cost': 355,\n",
       " 'specially selected': 1589,\n",
       " 'selected receive': 1484,\n",
       " 'speak live': 1583,\n",
       " 'live operator': 963,\n",
       " 'operator claim': 1233,\n",
       " 'claim call': 281,\n",
       " 'specially selected receive': 1590,\n",
       " 'speak live operator': 1584,\n",
       " 'order': 1241,\n",
       " 'content': 349,\n",
       " 'goto': 690,\n",
       " 'wap': 1874,\n",
       " 'menu': 1059,\n",
       " 'ur mobile': 1811,\n",
       " 'happy': 741,\n",
       " 'gay': 626,\n",
       " 'chat': 268,\n",
       " 'photo': 1277,\n",
       " 'min': 1067,\n",
       " 'gay chat': 627,\n",
       " 'call min': 210,\n",
       " 'min stop': 1072,\n",
       " 'stop text': 1616,\n",
       " 'text call': 1682,\n",
       " 'call min stop': 211,\n",
       " 'min stop text': 1073,\n",
       " 'stop text call': 1617,\n",
       " 'per min': 1267,\n",
       " 'call per min': 217,\n",
       " 'address': 13,\n",
       " 'student': 1623,\n",
       " 'aft': 20,\n",
       " 'mine': 1077,\n",
       " 'mmm': 1090,\n",
       " 'smile': 1556,\n",
       " 'private': 1335,\n",
       " 'account': 5,\n",
       " 'statement': 1603,\n",
       " 'bonus': 147,\n",
       " 'point': 1311,\n",
       " 'identifier': 819,\n",
       " 'expires': 529,\n",
       " 'private account': 1336,\n",
       " 'account statement': 6,\n",
       " 'statement show': 1604,\n",
       " 'call identifier': 201,\n",
       " 'identifier code': 820,\n",
       " 'code expires': 301,\n",
       " 'private account statement': 1337,\n",
       " 'account statement show': 7,\n",
       " 'call identifier code': 202,\n",
       " 'identifier code expires': 821,\n",
       " 'shop': 1513,\n",
       " 'either': 491,\n",
       " 'ntt': 1197,\n",
       " 'vary': 1838,\n",
       " 'cost ppm': 356,\n",
       " 'super': 1639,\n",
       " 'timing': 1721,\n",
       " 'guy': 723,\n",
       " 'try': 1759,\n",
       " 'gr': 692,\n",
       " 'gr day': 693,\n",
       " 'babe': 104,\n",
       " 'across': 8,\n",
       " 'sea': 1468,\n",
       " 'babe go': 105,\n",
       " 'go day': 655,\n",
       " 'across sea': 9,\n",
       " 'th': 1688,\n",
       " 'subscription': 1629,\n",
       " 'ringtone': 1428,\n",
       " 'uk': 1784,\n",
       " 'charged': 265,\n",
       " 'confirm': 333,\n",
       " 'replying': 1414,\n",
       " 'mobile charged': 1097,\n",
       " 'watching': 1880,\n",
       " 'watching tv': 1881,\n",
       " 'safe': 1452,\n",
       " 'nigeria': 1180,\n",
       " 'wish': 1925,\n",
       " 'happiness': 740,\n",
       " 'moment': 1108,\n",
       " 'fool': 582,\n",
       " 'back': 107,\n",
       " 'dry': 470,\n",
       " 'person': 1273,\n",
       " 'listen': 960,\n",
       " 'lt time': 1007,\n",
       " 'time gt': 1718,\n",
       " 'lt time gt': 1008,\n",
       " 'joke': 864,\n",
       " 'situation': 1541,\n",
       " 'ha ha': 726,\n",
       " 'meant': 1050,\n",
       " 'bank': 114,\n",
       " 'dollar': 448,\n",
       " 'charge': 264,\n",
       " 'trust': 1757,\n",
       " 'sending': 1496,\n",
       " 'gt dollar': 704,\n",
       " 'lt gt dollar': 1003,\n",
       " 'felt': 550,\n",
       " 'night': 1181,\n",
       " 'sat': 1456,\n",
       " 'god': 663,\n",
       " 'power': 1322,\n",
       " 'always': 43,\n",
       " 'gud': 717,\n",
       " 'ni': 1177,\n",
       " 'ur life': 1808,\n",
       " 'gud ni': 719,\n",
       " 'half': 731,\n",
       " 'saying': 1463,\n",
       " 'pay': 1261,\n",
       " 'bored': 153,\n",
       " 'wanna': 1867,\n",
       " 'idk': 822,\n",
       " 'sir': 1535,\n",
       " 'vote': 1850,\n",
       " 'loving': 997,\n",
       " 'holder': 778,\n",
       " 'pc': 1264,\n",
       " 'apply': 58,\n",
       " 'dear voucher': 407,\n",
       " 'voucher holder': 1852,\n",
       " 'co uk': 298,\n",
       " 'dear voucher holder': 408,\n",
       " 'rakhesh': 1370,\n",
       " 'loan': 965,\n",
       " 'call free': 200,\n",
       " 'free text': 601,\n",
       " 'text back': 1681,\n",
       " 'er': 505,\n",
       " 'sit': 1538,\n",
       " 'wen': 1907,\n",
       " 'eatin': 485,\n",
       " 'goin': 664,\n",
       " 'huh': 807,\n",
       " 'watch': 1879,\n",
       " 'beautiful': 124,\n",
       " 'waste': 1876,\n",
       " 'goodmorning': 683,\n",
       " 'kick': 880,\n",
       " 'lei': 934,\n",
       " 'mon': 1109,\n",
       " 'cbe': 254,\n",
       " 'chennai': 274,\n",
       " 'quick': 1364,\n",
       " 'hi': 764,\n",
       " 'whats': 1911,\n",
       " 'problem': 1350,\n",
       " 'least': 927,\n",
       " 'dear call': 406,\n",
       " 'asap': 73,\n",
       " 'definitely': 414,\n",
       " 'mayb': 1046,\n",
       " 'xchat': 1970,\n",
       " 'final': 557,\n",
       " 'attempt': 84,\n",
       " 'invited xchat': 845,\n",
       " 'final attempt': 558,\n",
       " 'attempt contact': 85,\n",
       " 'txt chat': 1773,\n",
       " 'final attempt contact': 559,\n",
       " 'plz': 1304,\n",
       " 'daddy': 390,\n",
       " 'interested': 841,\n",
       " 'buying': 187,\n",
       " 'else': 492,\n",
       " 'next week': 1176,\n",
       " 'caller': 222,\n",
       " 'caller prize': 223,\n",
       " 'awarded': 99,\n",
       " 'urgent mobile': 1820,\n",
       " 'mobile awarded': 1095,\n",
       " 'awarded bonus': 100,\n",
       " 'bonus caller': 148,\n",
       " 'contact call': 339,\n",
       " 'mobile awarded bonus': 1096,\n",
       " 'awarded bonus caller': 101,\n",
       " 'bonus caller prize': 149,\n",
       " 'date': 395,\n",
       " 'fullonsms': 617,\n",
       " 'treat': 1751,\n",
       " 'respect': 1417,\n",
       " 'sitting': 1540,\n",
       " 'pizza': 1284,\n",
       " 'yep': 1986,\n",
       " 'pretty': 1329,\n",
       " 'naughty': 1148,\n",
       " 'better': 132,\n",
       " 'flirt': 577,\n",
       " 'gettin': 640,\n",
       " 'hurt': 811,\n",
       " 'nyt': 1208,\n",
       " 'gud nyt': 720,\n",
       " 'an': 45,\n",
       " 'bslvyl': 175,\n",
       " 'noe': 1184,\n",
       " 'dat': 394,\n",
       " 'sell': 1488,\n",
       " 'close': 292,\n",
       " 'wat time': 1878,\n",
       " 'anything lor': 53,\n",
       " 'lor dun': 983,\n",
       " 'dun wan': 475,\n",
       " 'lunch': 1016,\n",
       " 'hmv': 775,\n",
       " 'info': 836,\n",
       " 'probably': 1349,\n",
       " 'complimentary': 331,\n",
       " 'ibiza': 813,\n",
       " 'sk': 1542,\n",
       " 'wp': 1954,\n",
       " 'landline complimentary': 897,\n",
       " 'ibiza holiday': 814,\n",
       " 'box sk': 164,\n",
       " 'sk wp': 1543,\n",
       " 'wp ppm': 1955,\n",
       " 'call landline complimentary': 208,\n",
       " 'ibiza holiday cash': 815,\n",
       " 'box sk wp': 165,\n",
       " 'sk wp ppm': 1544,\n",
       " 'btw': 179,\n",
       " 'anyone': 51,\n",
       " 'random': 1372,\n",
       " 'dude': 471,\n",
       " 'dis': 437,\n",
       " 'fr': 589,\n",
       " 'tone': 1734,\n",
       " 'polys': 1315,\n",
       " 'yr': 1998,\n",
       " 'new tone': 1170,\n",
       " 'unless': 1795,\n",
       " 'eerie': 487,\n",
       " 'rply': 1443,\n",
       " 'title': 1723,\n",
       " 'getzed': 642,\n",
       " 'nokia tone': 1189,\n",
       " 'www getzed': 1961,\n",
       " 'getzed co': 643,\n",
       " 'uk pobox': 1785,\n",
       " 'www getzed co': 1962,\n",
       " 'getzed co uk': 644,\n",
       " 'co uk pobox': 299,\n",
       " 'uk pobox wq': 1786,\n",
       " 'open': 1231,\n",
       " 'return': 1422,\n",
       " 'ticket': 1713,\n",
       " 'kerala': 878,\n",
       " 'go back': 654,\n",
       " 'semester': 1490,\n",
       " 'happy new': 743,\n",
       " 'hope good': 789,\n",
       " 'happy new year': 744,\n",
       " 'forgot': 585,\n",
       " 'award call': 98,\n",
       " 'school': 1465,\n",
       " 'ok lor': 1218,\n",
       " 'like lt': 950,\n",
       " 'like lt gt': 951,\n",
       " 'pleasure': 1298,\n",
       " 'tea': 1663,\n",
       " 'pleased': 1297,\n",
       " 'qatar': 1359,\n",
       " 'indian': 835,\n",
       " 'buck': 180,\n",
       " 'lt gt buck': 1002,\n",
       " 'wana': 1866,\n",
       " 'luv': 1017,\n",
       " 'bed': 125,\n",
       " 'alright': 41,\n",
       " 'doin': 447,\n",
       " 'nearly': 1156,\n",
       " 'hook': 786,\n",
       " 'un': 1788,\n",
       " 'redeemed': 1397,\n",
       " 'show un': 1520,\n",
       " 'un redeemed': 1789,\n",
       " 'redeemed point': 1398,\n",
       " 'point call': 1312,\n",
       " 'statement show un': 1605,\n",
       " 'show un redeemed': 1521,\n",
       " 'un redeemed point': 1790,\n",
       " 'redeemed point call': 1399,\n",
       " 'point call identifier': 1313,\n",
       " 'colour': 312,\n",
       " 'euro': 509,\n",
       " 'flag': 575,\n",
       " 'click': 291,\n",
       " 'following': 579,\n",
       " 'tone ur': 1737,\n",
       " 'change': 262,\n",
       " 'one day': 1224,\n",
       " 'hl': 771,\n",
       " 'ldn': 921,\n",
       " 'row hl': 1441,\n",
       " 'hl ldn': 772,\n",
       " 'land row hl': 895,\n",
       " 'row hl ldn': 1442,\n",
       " 'added': 12,\n",
       " 'grin': 701,\n",
       " 'buzz': 188,\n",
       " 'as': 72,\n",
       " 'wine': 1923,\n",
       " 'saturday': 1457,\n",
       " 'sunday': 1636,\n",
       " 'net': 1160,\n",
       " 'available': 90,\n",
       " 'arcade': 62,\n",
       " 'press': 1328,\n",
       " 'std': 1608,\n",
       " 'term': 1678,\n",
       " 'purchase': 1355,\n",
       " 'sad': 1447,\n",
       " 'touch': 1745,\n",
       " 'keep touch': 875,\n",
       " 'forum': 586,\n",
       " 'post': 1317,\n",
       " 'fixed': 574,\n",
       " 'hopefully': 792,\n",
       " 'didnt': 423,\n",
       " 'film': 556,\n",
       " 'computer': 332,\n",
       " 'attempt contact call': 86,\n",
       " ...}"
      ]
     },
     "execution_count": 26,
     "metadata": {},
     "output_type": "execute_result"
    }
   ],
   "source": [
    "tfidf.vocabulary_"
   ]
  },
  {
   "cell_type": "markdown",
   "id": "97ba1ebb",
   "metadata": {},
   "source": [
    "### Model Building:"
   ]
  },
  {
   "cell_type": "markdown",
   "id": "99493143",
   "metadata": {},
   "source": [
    "* we all start with general classification model logistic regression which defines the decision boundary between classes so we are also going to start with the same.\n",
    "\n",
    "* we know naive bayes works well with text data where we use vectorization methods like TFIDF and BOW which depends on the frequency of text occurring so we use naive bayes."
   ]
  },
  {
   "cell_type": "markdown",
   "id": "03f8a108",
   "metadata": {},
   "source": [
    "#### Logistic Regression"
   ]
  },
  {
   "cell_type": "code",
   "execution_count": 27,
   "id": "a7972629",
   "metadata": {},
   "outputs": [],
   "source": [
    "from sklearn.linear_model import LogisticRegression\n",
    "log_reg = LogisticRegression(class_weight= \"balanced\")"
   ]
  },
  {
   "cell_type": "markdown",
   "id": "43decaab",
   "metadata": {},
   "source": [
    "#### Logistic regression on Bag of words(cv):\n"
   ]
  },
  {
   "cell_type": "code",
   "execution_count": 28,
   "id": "e86867ca",
   "metadata": {},
   "outputs": [],
   "source": [
    "log_reg.fit(X_train_cv,y_train)\n",
    "y_pred = log_reg.predict(X_test_cv)"
   ]
  },
  {
   "cell_type": "code",
   "execution_count": 29,
   "id": "36bc1342",
   "metadata": {},
   "outputs": [
    {
     "name": "stdout",
     "output_type": "stream",
     "text": [
      "0.9780786589297228\n"
     ]
    }
   ],
   "source": [
    "from sklearn.metrics import classification_report,accuracy_score\n",
    "print(accuracy_score(y_test,y_pred))"
   ]
  },
  {
   "cell_type": "code",
   "execution_count": 30,
   "id": "40de8759",
   "metadata": {},
   "outputs": [
    {
     "name": "stdout",
     "output_type": "stream",
     "text": [
      "              precision    recall  f1-score   support\n",
      "\n",
      "           0       0.99      0.98      0.99      1373\n",
      "           1       0.89      0.93      0.91       178\n",
      "\n",
      "    accuracy                           0.98      1551\n",
      "   macro avg       0.94      0.96      0.95      1551\n",
      "weighted avg       0.98      0.98      0.98      1551\n",
      "\n"
     ]
    }
   ],
   "source": [
    "print(classification_report(y_pred,y_test))"
   ]
  },
  {
   "cell_type": "markdown",
   "id": "c1ad4e50",
   "metadata": {},
   "source": [
    "#### Logistic regression on TF-IDF:\n"
   ]
  },
  {
   "cell_type": "code",
   "execution_count": 31,
   "id": "b8fff01d",
   "metadata": {},
   "outputs": [],
   "source": [
    "log_reg.fit(X_train_tfidf,y_train)\n",
    "y_pred = log_reg.predict(X_test_tfidf)"
   ]
  },
  {
   "cell_type": "code",
   "execution_count": 32,
   "id": "462dd38a",
   "metadata": {},
   "outputs": [
    {
     "name": "stdout",
     "output_type": "stream",
     "text": [
      "0.9780786589297228\n"
     ]
    }
   ],
   "source": [
    "print(accuracy_score(y_test,y_pred))"
   ]
  },
  {
   "cell_type": "code",
   "execution_count": 33,
   "id": "1e92fd63",
   "metadata": {},
   "outputs": [
    {
     "name": "stdout",
     "output_type": "stream",
     "text": [
      "              precision    recall  f1-score   support\n",
      "\n",
      "           0       0.98      0.99      0.99      1357\n",
      "           1       0.93      0.89      0.91       194\n",
      "\n",
      "    accuracy                           0.98      1551\n",
      "   macro avg       0.96      0.94      0.95      1551\n",
      "weighted avg       0.98      0.98      0.98      1551\n",
      "\n"
     ]
    }
   ],
   "source": [
    "print(classification_report(y_pred,y_test))"
   ]
  },
  {
   "cell_type": "markdown",
   "id": "a6e15872",
   "metadata": {},
   "source": [
    "#### Naive Bayes "
   ]
  },
  {
   "cell_type": "markdown",
   "id": "bf0bb741",
   "metadata": {},
   "source": [
    "#### Naive Bayes on Bag of words(cv)"
   ]
  },
  {
   "cell_type": "code",
   "execution_count": 34,
   "id": "2aec5080",
   "metadata": {},
   "outputs": [],
   "source": [
    "from sklearn.naive_bayes import MultinomialNB\n",
    "nb= MultinomialNB()"
   ]
  },
  {
   "cell_type": "code",
   "execution_count": 35,
   "id": "c845f654",
   "metadata": {},
   "outputs": [],
   "source": [
    "nb.fit(X_train_cv,y_train)\n",
    "y_pred = nb.predict(X_test_cv)"
   ]
  },
  {
   "cell_type": "code",
   "execution_count": 36,
   "id": "c587845e",
   "metadata": {},
   "outputs": [
    {
     "name": "stdout",
     "output_type": "stream",
     "text": [
      "0.9832366215344939\n"
     ]
    }
   ],
   "source": [
    "print(accuracy_score(y_test,y_pred))"
   ]
  },
  {
   "cell_type": "code",
   "execution_count": 37,
   "id": "e0622d5a",
   "metadata": {},
   "outputs": [
    {
     "name": "stdout",
     "output_type": "stream",
     "text": [
      "              precision    recall  f1-score   support\n",
      "\n",
      "           0       0.99      0.99      0.99      1373\n",
      "           1       0.91      0.95      0.93       178\n",
      "\n",
      "    accuracy                           0.98      1551\n",
      "   macro avg       0.95      0.97      0.96      1551\n",
      "weighted avg       0.98      0.98      0.98      1551\n",
      "\n"
     ]
    }
   ],
   "source": [
    "print(classification_report(y_pred,y_test))"
   ]
  },
  {
   "cell_type": "markdown",
   "id": "2e22214c",
   "metadata": {},
   "source": [
    "#### Naive Bayes on TFIDF:"
   ]
  },
  {
   "cell_type": "code",
   "execution_count": 38,
   "id": "a132108e",
   "metadata": {},
   "outputs": [],
   "source": [
    "nb.fit(X_train_tfidf,y_train)\n",
    "y_pred = nb.predict(X_test_tfidf)"
   ]
  },
  {
   "cell_type": "code",
   "execution_count": 39,
   "id": "145a0172",
   "metadata": {},
   "outputs": [
    {
     "name": "stdout",
     "output_type": "stream",
     "text": [
      "0.9774339136041263\n"
     ]
    }
   ],
   "source": [
    "print(accuracy_score(y_test,y_pred))"
   ]
  },
  {
   "cell_type": "code",
   "execution_count": 40,
   "id": "ad1a6ece",
   "metadata": {},
   "outputs": [
    {
     "name": "stdout",
     "output_type": "stream",
     "text": [
      "              precision    recall  f1-score   support\n",
      "\n",
      "           0       1.00      0.98      0.99      1396\n",
      "           1       0.82      0.99      0.90       155\n",
      "\n",
      "    accuracy                           0.98      1551\n",
      "   macro avg       0.91      0.98      0.94      1551\n",
      "weighted avg       0.98      0.98      0.98      1551\n",
      "\n"
     ]
    }
   ],
   "source": [
    "print(classification_report(y_pred,y_test))"
   ]
  },
  {
   "cell_type": "markdown",
   "id": "6812f43d",
   "metadata": {},
   "source": [
    "* on the above results, we can see that Multinomial Naive Bayes using Bag of Words (CountVectorizer) vectorization performs better on the SMS Spam-Ham classification task, achieving an accuracy of 98.32%, along with strong precision and recall metrics. \n",
    "* specifically, a precision and recall of 0.99 for the ham class and 0.91 precision and 0.95 recall for the spam class."
   ]
  },
  {
   "cell_type": "markdown",
   "id": "fb44622a",
   "metadata": {},
   "source": [
    "I have skipped the feature engineering as there is only 1 feature, but it is highly recommended. I built this project to practice the NLP concepts which I have learned."
   ]
  },
  {
   "cell_type": "markdown",
   "id": "8d110f3c",
   "metadata": {},
   "source": [
    "## Part-2 Word2vec and Avgword2vec"
   ]
  },
  {
   "cell_type": "markdown",
   "id": "8ba01f74",
   "metadata": {},
   "source": [
    "#### This is just the continuation of above Part-1 except we use **Word2Vec** for creating the word embeddings, where there will be a slight change in our **text processing**."
   ]
  },
  {
   "cell_type": "markdown",
   "id": "1f72ef06",
   "metadata": {},
   "source": [
    "### Text Processing"
   ]
  },
  {
   "cell_type": "code",
   "execution_count": null,
   "id": "ccb67d29",
   "metadata": {},
   "outputs": [],
   "source": [
    "#!pip install gensim"
   ]
  },
  {
   "cell_type": "code",
   "execution_count": 121,
   "id": "4a284db0",
   "metadata": {},
   "outputs": [
    {
     "data": {
      "text/plain": [
       "(5169, 2)"
      ]
     },
     "execution_count": 121,
     "metadata": {},
     "output_type": "execute_result"
    }
   ],
   "source": [
    "messages.shape"
   ]
  },
  {
   "cell_type": "code",
   "execution_count": 122,
   "id": "fe1074a4",
   "metadata": {},
   "outputs": [],
   "source": [
    "from gensim.models import Word2Vec,KeyedVectors"
   ]
  },
  {
   "cell_type": "markdown",
   "id": "40ae2dce",
   "metadata": {},
   "source": [
    "simple_preprocess will ease our code where it will create list of tokens by taking a sentence or document and lowercase it \n",
    "it also removes punctuation marks and non alphabets"
   ]
  },
  {
   "cell_type": "code",
   "execution_count": null,
   "id": "ba101bf4",
   "metadata": {},
   "outputs": [],
   "source": [
    "from gensim.utils import simple_preprocess"
   ]
  },
  {
   "cell_type": "code",
   "execution_count": 124,
   "id": "02f026b1",
   "metadata": {},
   "outputs": [],
   "source": [
    "empty_indices = [] #for tracking the indices where our message in corpus is empty \n",
    "corpus = []\n",
    "\n",
    "for i in range(0, len(messages)):\n",
    "    #review = re.sub(\"[^a-zA-z]\",\" \",messages[\"message\"][i])\n",
    "    #review =review.lower()\n",
    "    #review = review.split()\n",
    "    review = simple_preprocess(messages[\"message\"][i])\n",
    "    review = [lemmatizer.lemmatize(word) for word in review]\n",
    "    review = ' '.join(review)\n",
    "\n",
    "    if review.strip() == \"\":\n",
    "        empty_indices.append(i)\n",
    "    else:\n",
    "        corpus.append(review)"
   ]
  },
  {
   "cell_type": "code",
   "execution_count": 125,
   "id": "9e3ef72b",
   "metadata": {},
   "outputs": [
    {
     "data": {
      "text/plain": [
       "[1561, 3193, 4021, 4502, 4820]"
      ]
     },
     "execution_count": 125,
     "metadata": {},
     "output_type": "execute_result"
    }
   ],
   "source": [
    "empty_indices"
   ]
  },
  {
   "cell_type": "code",
   "execution_count": 126,
   "id": "d08443ee",
   "metadata": {},
   "outputs": [],
   "source": [
    "words = []\n",
    "\n",
    "from nltk import sent_tokenize\n",
    "\n",
    "for sent in corpus:\n",
    "    words.append(simple_preprocess(sent))"
   ]
  },
  {
   "cell_type": "code",
   "execution_count": 127,
   "id": "108111f0",
   "metadata": {},
   "outputs": [
    {
     "data": {
      "text/plain": [
       "['go until jurong point crazy available only in bugis great world la buffet cine there got amore wat',\n",
       " 'ok lar joking wif oni',\n",
       " 'free entry in wkly comp to win fa cup final tkts st may text fa to to receive entry question std txt rate apply over',\n",
       " 'dun say so early hor already then say',\n",
       " 'nah don think he go to usf he life around here though']"
      ]
     },
     "execution_count": 127,
     "metadata": {},
     "output_type": "execute_result"
    }
   ],
   "source": [
    "corpus[:5]"
   ]
  },
  {
   "cell_type": "code",
   "execution_count": 128,
   "id": "bad780aa",
   "metadata": {},
   "outputs": [
    {
     "data": {
      "text/plain": [
       "[['go',\n",
       "  'until',\n",
       "  'jurong',\n",
       "  'point',\n",
       "  'crazy',\n",
       "  'available',\n",
       "  'only',\n",
       "  'in',\n",
       "  'bugis',\n",
       "  'great',\n",
       "  'world',\n",
       "  'la',\n",
       "  'buffet',\n",
       "  'cine',\n",
       "  'there',\n",
       "  'got',\n",
       "  'amore',\n",
       "  'wat'],\n",
       " ['ok', 'lar', 'joking', 'wif', 'oni'],\n",
       " ['free',\n",
       "  'entry',\n",
       "  'in',\n",
       "  'wkly',\n",
       "  'comp',\n",
       "  'to',\n",
       "  'win',\n",
       "  'fa',\n",
       "  'cup',\n",
       "  'final',\n",
       "  'tkts',\n",
       "  'st',\n",
       "  'may',\n",
       "  'text',\n",
       "  'fa',\n",
       "  'to',\n",
       "  'to',\n",
       "  'receive',\n",
       "  'entry',\n",
       "  'question',\n",
       "  'std',\n",
       "  'txt',\n",
       "  'rate',\n",
       "  'apply',\n",
       "  'over']]"
      ]
     },
     "execution_count": 128,
     "metadata": {},
     "output_type": "execute_result"
    }
   ],
   "source": [
    "words[:3]"
   ]
  },
  {
   "cell_type": "code",
   "execution_count": 129,
   "id": "a2476228",
   "metadata": {},
   "outputs": [
    {
     "name": "stdout",
     "output_type": "stream",
     "text": [
      "5164\n",
      "5164\n"
     ]
    }
   ],
   "source": [
    "print(len(corpus))\n",
    "print(len(words))"
   ]
  },
  {
   "cell_type": "markdown",
   "id": "3aee7cc4",
   "metadata": {},
   "source": [
    "### Vectorization - Training our own word2vec using gensim "
   ]
  },
  {
   "cell_type": "markdown",
   "id": "d779104e",
   "metadata": {},
   "source": [
    "since our corpus is small we will not remove stopwords we will be training deafult word2vec where there will be 100 dimensions and 5 epochs"
   ]
  },
  {
   "cell_type": "code",
   "execution_count": 130,
   "id": "4a0f4eb3",
   "metadata": {},
   "outputs": [],
   "source": [
    "import gensim\n",
    "wv_model = gensim.models.Word2Vec(words)"
   ]
  },
  {
   "cell_type": "code",
   "execution_count": 131,
   "id": "220f744e",
   "metadata": {},
   "outputs": [
    {
     "data": {
      "text/plain": [
       "['you', 'to', 'the', 'and', 'it', 'in', 'is', 'me', 'my', 'for']"
      ]
     },
     "execution_count": 131,
     "metadata": {},
     "output_type": "execute_result"
    }
   ],
   "source": [
    "wv_model.wv.index_to_key[:10]"
   ]
  },
  {
   "cell_type": "code",
   "execution_count": 132,
   "id": "812043c8",
   "metadata": {},
   "outputs": [
    {
     "data": {
      "text/plain": [
       "5164"
      ]
     },
     "execution_count": 132,
     "metadata": {},
     "output_type": "execute_result"
    }
   ],
   "source": [
    "wv_model.corpus_count"
   ]
  },
  {
   "cell_type": "code",
   "execution_count": 133,
   "id": "b2677b93",
   "metadata": {},
   "outputs": [
    {
     "data": {
      "text/plain": [
       "5"
      ]
     },
     "execution_count": 133,
     "metadata": {},
     "output_type": "execute_result"
    }
   ],
   "source": [
    "wv_model.epochs"
   ]
  },
  {
   "cell_type": "code",
   "execution_count": 134,
   "id": "301ce295",
   "metadata": {},
   "outputs": [
    {
     "data": {
      "text/plain": [
       "[('night', 0.9993362426757812),\n",
       " ('today', 0.9992061853408813),\n",
       " ('good', 0.9991238117218018),\n",
       " ('them', 0.9990876913070679),\n",
       " ('give', 0.9990751147270203),\n",
       " ('sorry', 0.9990680813789368),\n",
       " ('very', 0.9990679025650024),\n",
       " ('wa', 0.999050498008728),\n",
       " ('money', 0.9990424513816833),\n",
       " ('here', 0.9990323781967163)]"
      ]
     },
     "execution_count": 134,
     "metadata": {},
     "output_type": "execute_result"
    }
   ],
   "source": [
    "wv_model.wv.most_similar(\"morning\")"
   ]
  },
  {
   "cell_type": "code",
   "execution_count": 135,
   "id": "be5ede86",
   "metadata": {},
   "outputs": [
    {
     "data": {
      "text/plain": [
       "(100,)"
      ]
     },
     "execution_count": 135,
     "metadata": {},
     "output_type": "execute_result"
    }
   ],
   "source": [
    "wv_model.wv[\"morning\"].shape"
   ]
  },
  {
   "cell_type": "markdown",
   "id": "2925318d",
   "metadata": {},
   "source": [
    "We will now create AVGword2vec because we want to represent fr each message in 100 dimensions rather than each words in 100 dimensions"
   ]
  },
  {
   "cell_type": "markdown",
   "id": "ce094130",
   "metadata": {},
   "source": [
    "tqdm displays the progress bar so that we could know the status of our avgword2vec process it will be helpful while training word2vec on larger corpus "
   ]
  },
  {
   "cell_type": "code",
   "execution_count": 136,
   "id": "faaddecd",
   "metadata": {},
   "outputs": [],
   "source": [
    "# !pip install tqdm"
   ]
  },
  {
   "cell_type": "code",
   "execution_count": 137,
   "id": "ca3f76ae",
   "metadata": {},
   "outputs": [],
   "source": [
    "import numpy as np\n",
    "def avgword2vec(document):\n",
    "    return np.mean([wv_model.wv[word] for word in document if word in wv_model.wv.index_to_key],axis =0)"
   ]
  },
  {
   "cell_type": "code",
   "execution_count": 138,
   "id": "21d86259",
   "metadata": {},
   "outputs": [
    {
     "name": "stderr",
     "output_type": "stream",
     "text": [
      "  0%|          | 0/5164 [00:00<?, ?it/s]c:\\Users\\SA\\anaconda3\\lib\\site-packages\\numpy\\core\\fromnumeric.py:3464: RuntimeWarning: Mean of empty slice.\n",
      "  return _methods._mean(a, axis=axis, dtype=dtype,\n",
      "c:\\Users\\SA\\anaconda3\\lib\\site-packages\\numpy\\core\\_methods.py:192: RuntimeWarning: invalid value encountered in scalar divide\n",
      "  ret = ret.dtype.type(ret / rcount)\n",
      "100%|██████████| 5164/5164 [00:00<00:00, 6767.21it/s]\n"
     ]
    }
   ],
   "source": [
    "from tqdm import tqdm\n",
    "\n",
    "X = []\n",
    "\n",
    "for i in tqdm(range(len(words))):\n",
    "    X.append(avgword2vec(words[i]))\n"
   ]
  },
  {
   "cell_type": "code",
   "execution_count": 141,
   "id": "c4de4506",
   "metadata": {},
   "outputs": [
    {
     "data": {
      "text/plain": [
       "array([-1.37038574e-01,  2.94929951e-01, -2.60431692e-02,  3.96791957e-02,\n",
       "        7.91931525e-02, -4.91065562e-01,  1.05624087e-01,  5.98818421e-01,\n",
       "       -2.07696125e-01, -2.16737673e-01, -1.15174361e-01, -3.57608676e-01,\n",
       "       -9.10031423e-02,  1.24712579e-01,  1.16599798e-01, -1.82135537e-01,\n",
       "        4.04968932e-02, -3.08557451e-01, -7.44874850e-02, -5.39693594e-01,\n",
       "        1.77226394e-01,  4.84014899e-02,  1.07822068e-01, -2.32445061e-01,\n",
       "       -5.76726757e-02,  6.60499632e-02, -2.22718388e-01, -2.29759797e-01,\n",
       "       -2.22636625e-01,  3.98541316e-02,  2.24300712e-01,  6.73786155e-04,\n",
       "        6.26101345e-02, -2.86290795e-01, -1.93007171e-01,  3.56187791e-01,\n",
       "       -4.36147712e-02, -1.54783219e-01, -1.53768718e-01, -4.43764538e-01,\n",
       "        4.78935987e-02, -2.34040797e-01, -8.81711096e-02,  2.60392260e-02,\n",
       "        2.07284957e-01, -7.50860870e-02, -2.09199026e-01, -1.40707389e-01,\n",
       "        1.60761580e-01,  7.38467425e-02,  1.29295513e-01, -2.06211567e-01,\n",
       "       -7.90158287e-02,  6.24713413e-02, -2.72020370e-01,  1.42677322e-01,\n",
       "        1.25192627e-01, -3.02598197e-02, -3.20243984e-01,  8.67251083e-02,\n",
       "        1.11139134e-01,  3.44658457e-02,  2.58165505e-02, -7.19935000e-02,\n",
       "       -3.85775298e-01,  2.39162683e-01,  9.74579081e-02,  2.03082278e-01,\n",
       "       -3.51785541e-01,  3.72867793e-01, -1.89935535e-01,  1.47216544e-01,\n",
       "        1.95279285e-01, -1.30068734e-01,  4.04224008e-01,  8.85733590e-02,\n",
       "        5.24014682e-02, -2.34731343e-02, -1.67115152e-01, -3.94786112e-02,\n",
       "       -1.75135151e-01, -1.15134425e-01, -2.83140600e-01,  4.23750788e-01,\n",
       "       -9.72098410e-02, -4.51238379e-02,  3.35090328e-04,  1.96728289e-01,\n",
       "        2.98475295e-01,  2.35751793e-02,  3.22805315e-01,  2.59525448e-01,\n",
       "        3.90560590e-02,  2.83788089e-02,  3.78959149e-01,  2.97045678e-01,\n",
       "        1.74794346e-01, -1.95128068e-01,  1.23446383e-01,  4.96650450e-02],\n",
       "      dtype=float32)"
      ]
     },
     "execution_count": 141,
     "metadata": {},
     "output_type": "execute_result"
    }
   ],
   "source": [
    "X[0]"
   ]
  },
  {
   "cell_type": "code",
   "execution_count": 140,
   "id": "63b9dd50",
   "metadata": {},
   "outputs": [
    {
     "data": {
      "text/plain": [
       "(100,)"
      ]
     },
     "execution_count": 140,
     "metadata": {},
     "output_type": "execute_result"
    }
   ],
   "source": [
    "X[0].shape"
   ]
  },
  {
   "cell_type": "markdown",
   "id": "8d52ace0",
   "metadata": {},
   "source": [
    "### Independent and dependent features"
   ]
  },
  {
   "cell_type": "markdown",
   "id": "a8699f9c",
   "metadata": {},
   "source": [
    "Now after applying our AvgWord2Vec, we can represent each message in 100 dimensions. But currently, it is in rows, whereas we know that when we say \"dimensions\", they should be represented in columns, where each record or row represents a message. So, we will reshape it and add it to the DataFrame."
   ]
  },
  {
   "cell_type": "code",
   "execution_count": 143,
   "id": "3a3f0da7",
   "metadata": {},
   "outputs": [
    {
     "data": {
      "text/plain": [
       "(1, 100)"
      ]
     },
     "execution_count": 143,
     "metadata": {},
     "output_type": "execute_result"
    }
   ],
   "source": [
    "X[0].reshape(1,-1).shape"
   ]
  },
  {
   "cell_type": "code",
   "execution_count": 144,
   "id": "b02370bc",
   "metadata": {},
   "outputs": [
    {
     "name": "stderr",
     "output_type": "stream",
     "text": [
      "C:\\Users\\SA\\AppData\\Local\\Temp\\ipykernel_11648\\1177391832.py:4: FutureWarning: The frame.append method is deprecated and will be removed from pandas in a future version. Use pandas.concat instead.\n",
      "  df=df.append(pd.DataFrame(X[i].reshape(1,-1)),ignore_index=True)\n"
     ]
    }
   ],
   "source": [
    "df=pd.DataFrame()\n",
    "\n",
    "for i in range(0,len(X)):\n",
    "    df=df.append(pd.DataFrame(X[i].reshape(1,-1)),ignore_index=True)"
   ]
  },
  {
   "cell_type": "code",
   "execution_count": 145,
   "id": "47020d24",
   "metadata": {},
   "outputs": [
    {
     "data": {
      "text/html": [
       "<div>\n",
       "<style scoped>\n",
       "    .dataframe tbody tr th:only-of-type {\n",
       "        vertical-align: middle;\n",
       "    }\n",
       "\n",
       "    .dataframe tbody tr th {\n",
       "        vertical-align: top;\n",
       "    }\n",
       "\n",
       "    .dataframe thead th {\n",
       "        text-align: right;\n",
       "    }\n",
       "</style>\n",
       "<table border=\"1\" class=\"dataframe\">\n",
       "  <thead>\n",
       "    <tr style=\"text-align: right;\">\n",
       "      <th></th>\n",
       "      <th>0</th>\n",
       "      <th>1</th>\n",
       "      <th>2</th>\n",
       "      <th>3</th>\n",
       "      <th>4</th>\n",
       "      <th>5</th>\n",
       "      <th>6</th>\n",
       "      <th>7</th>\n",
       "      <th>8</th>\n",
       "      <th>9</th>\n",
       "      <th>...</th>\n",
       "      <th>90</th>\n",
       "      <th>91</th>\n",
       "      <th>92</th>\n",
       "      <th>93</th>\n",
       "      <th>94</th>\n",
       "      <th>95</th>\n",
       "      <th>96</th>\n",
       "      <th>97</th>\n",
       "      <th>98</th>\n",
       "      <th>99</th>\n",
       "    </tr>\n",
       "  </thead>\n",
       "  <tbody>\n",
       "    <tr>\n",
       "      <th>0</th>\n",
       "      <td>-0.137039</td>\n",
       "      <td>0.294930</td>\n",
       "      <td>-0.026043</td>\n",
       "      <td>0.039679</td>\n",
       "      <td>0.079193</td>\n",
       "      <td>-0.491066</td>\n",
       "      <td>0.105624</td>\n",
       "      <td>0.598818</td>\n",
       "      <td>-0.207696</td>\n",
       "      <td>-0.216738</td>\n",
       "      <td>...</td>\n",
       "      <td>0.322805</td>\n",
       "      <td>0.259525</td>\n",
       "      <td>0.039056</td>\n",
       "      <td>0.028379</td>\n",
       "      <td>0.378959</td>\n",
       "      <td>0.297046</td>\n",
       "      <td>0.174794</td>\n",
       "      <td>-0.195128</td>\n",
       "      <td>0.123446</td>\n",
       "      <td>0.049665</td>\n",
       "    </tr>\n",
       "    <tr>\n",
       "      <th>1</th>\n",
       "      <td>-0.114499</td>\n",
       "      <td>0.249373</td>\n",
       "      <td>-0.022151</td>\n",
       "      <td>0.031091</td>\n",
       "      <td>0.074356</td>\n",
       "      <td>-0.423710</td>\n",
       "      <td>0.094398</td>\n",
       "      <td>0.523384</td>\n",
       "      <td>-0.179684</td>\n",
       "      <td>-0.178965</td>\n",
       "      <td>...</td>\n",
       "      <td>0.280251</td>\n",
       "      <td>0.224353</td>\n",
       "      <td>0.031616</td>\n",
       "      <td>0.029129</td>\n",
       "      <td>0.337401</td>\n",
       "      <td>0.259927</td>\n",
       "      <td>0.146782</td>\n",
       "      <td>-0.177532</td>\n",
       "      <td>0.103008</td>\n",
       "      <td>0.041583</td>\n",
       "    </tr>\n",
       "    <tr>\n",
       "      <th>2</th>\n",
       "      <td>-0.137433</td>\n",
       "      <td>0.314455</td>\n",
       "      <td>-0.033190</td>\n",
       "      <td>0.031741</td>\n",
       "      <td>0.075751</td>\n",
       "      <td>-0.512493</td>\n",
       "      <td>0.095331</td>\n",
       "      <td>0.603407</td>\n",
       "      <td>-0.191813</td>\n",
       "      <td>-0.217171</td>\n",
       "      <td>...</td>\n",
       "      <td>0.318940</td>\n",
       "      <td>0.257011</td>\n",
       "      <td>0.051214</td>\n",
       "      <td>0.024395</td>\n",
       "      <td>0.350683</td>\n",
       "      <td>0.291157</td>\n",
       "      <td>0.204639</td>\n",
       "      <td>-0.194610</td>\n",
       "      <td>0.131429</td>\n",
       "      <td>0.056346</td>\n",
       "    </tr>\n",
       "    <tr>\n",
       "      <th>3</th>\n",
       "      <td>-0.178595</td>\n",
       "      <td>0.392678</td>\n",
       "      <td>-0.028988</td>\n",
       "      <td>0.063799</td>\n",
       "      <td>0.109593</td>\n",
       "      <td>-0.652590</td>\n",
       "      <td>0.153713</td>\n",
       "      <td>0.813442</td>\n",
       "      <td>-0.291737</td>\n",
       "      <td>-0.286192</td>\n",
       "      <td>...</td>\n",
       "      <td>0.441517</td>\n",
       "      <td>0.350482</td>\n",
       "      <td>0.048586</td>\n",
       "      <td>0.036184</td>\n",
       "      <td>0.537553</td>\n",
       "      <td>0.405355</td>\n",
       "      <td>0.222565</td>\n",
       "      <td>-0.268923</td>\n",
       "      <td>0.167509</td>\n",
       "      <td>0.069828</td>\n",
       "    </tr>\n",
       "    <tr>\n",
       "      <th>4</th>\n",
       "      <td>-0.158768</td>\n",
       "      <td>0.340132</td>\n",
       "      <td>-0.021166</td>\n",
       "      <td>0.051257</td>\n",
       "      <td>0.099469</td>\n",
       "      <td>-0.565739</td>\n",
       "      <td>0.134347</td>\n",
       "      <td>0.698158</td>\n",
       "      <td>-0.246178</td>\n",
       "      <td>-0.251585</td>\n",
       "      <td>...</td>\n",
       "      <td>0.377010</td>\n",
       "      <td>0.304348</td>\n",
       "      <td>0.045797</td>\n",
       "      <td>0.028894</td>\n",
       "      <td>0.455705</td>\n",
       "      <td>0.345923</td>\n",
       "      <td>0.199871</td>\n",
       "      <td>-0.232006</td>\n",
       "      <td>0.145611</td>\n",
       "      <td>0.055304</td>\n",
       "    </tr>\n",
       "  </tbody>\n",
       "</table>\n",
       "<p>5 rows × 100 columns</p>\n",
       "</div>"
      ],
      "text/plain": [
       "         0         1         2         3         4         5         6   \\\n",
       "0 -0.137039  0.294930 -0.026043  0.039679  0.079193 -0.491066  0.105624   \n",
       "1 -0.114499  0.249373 -0.022151  0.031091  0.074356 -0.423710  0.094398   \n",
       "2 -0.137433  0.314455 -0.033190  0.031741  0.075751 -0.512493  0.095331   \n",
       "3 -0.178595  0.392678 -0.028988  0.063799  0.109593 -0.652590  0.153713   \n",
       "4 -0.158768  0.340132 -0.021166  0.051257  0.099469 -0.565739  0.134347   \n",
       "\n",
       "         7         8         9   ...        90        91        92        93  \\\n",
       "0  0.598818 -0.207696 -0.216738  ...  0.322805  0.259525  0.039056  0.028379   \n",
       "1  0.523384 -0.179684 -0.178965  ...  0.280251  0.224353  0.031616  0.029129   \n",
       "2  0.603407 -0.191813 -0.217171  ...  0.318940  0.257011  0.051214  0.024395   \n",
       "3  0.813442 -0.291737 -0.286192  ...  0.441517  0.350482  0.048586  0.036184   \n",
       "4  0.698158 -0.246178 -0.251585  ...  0.377010  0.304348  0.045797  0.028894   \n",
       "\n",
       "         94        95        96        97        98        99  \n",
       "0  0.378959  0.297046  0.174794 -0.195128  0.123446  0.049665  \n",
       "1  0.337401  0.259927  0.146782 -0.177532  0.103008  0.041583  \n",
       "2  0.350683  0.291157  0.204639 -0.194610  0.131429  0.056346  \n",
       "3  0.537553  0.405355  0.222565 -0.268923  0.167509  0.069828  \n",
       "4  0.455705  0.345923  0.199871 -0.232006  0.145611  0.055304  \n",
       "\n",
       "[5 rows x 100 columns]"
      ]
     },
     "execution_count": 145,
     "metadata": {},
     "output_type": "execute_result"
    }
   ],
   "source": [
    "df.head()"
   ]
  },
  {
   "cell_type": "code",
   "execution_count": 146,
   "id": "2e258cb1",
   "metadata": {},
   "outputs": [
    {
     "data": {
      "text/plain": [
       "(5164, 100)"
      ]
     },
     "execution_count": 146,
     "metadata": {},
     "output_type": "execute_result"
    }
   ],
   "source": [
    "df.shape"
   ]
  },
  {
   "cell_type": "code",
   "execution_count": 147,
   "id": "52db01e3",
   "metadata": {},
   "outputs": [],
   "source": [
    "messages.drop(index=empty_indices,inplace=True)\n",
    "messages.reset_index(drop=True,inplace=True)"
   ]
  },
  {
   "cell_type": "code",
   "execution_count": 148,
   "id": "9af63ece",
   "metadata": {},
   "outputs": [],
   "source": [
    "y = pd.get_dummies(messages[\"label\"])[\"spam\"]"
   ]
  },
  {
   "cell_type": "code",
   "execution_count": 149,
   "id": "0a85649f",
   "metadata": {},
   "outputs": [],
   "source": [
    "df[\"spam\"] = y"
   ]
  },
  {
   "cell_type": "code",
   "execution_count": 150,
   "id": "45022418",
   "metadata": {},
   "outputs": [],
   "source": [
    "df.dropna(inplace=True)"
   ]
  },
  {
   "cell_type": "code",
   "execution_count": 151,
   "id": "e1698ce4",
   "metadata": {},
   "outputs": [],
   "source": [
    "X = df.iloc[ : , :-1]\n",
    "y = df[\"spam\"]"
   ]
  },
  {
   "cell_type": "code",
   "execution_count": 152,
   "id": "4000fc14",
   "metadata": {},
   "outputs": [
    {
     "name": "stdout",
     "output_type": "stream",
     "text": [
      "(5154, 100)\n",
      "(5154,)\n"
     ]
    }
   ],
   "source": [
    "print(X.shape)\n",
    "print(y.shape)"
   ]
  },
  {
   "cell_type": "markdown",
   "id": "f28b483d",
   "metadata": {},
   "source": [
    "### Model Building"
   ]
  },
  {
   "cell_type": "markdown",
   "id": "c4f30d5f",
   "metadata": {},
   "source": [
    "We will be applying Logistic Regression and Random Forest Classifier. Naive Bayes is not suitable in this case because it expects the input features to be non-negative, which is not guaranteed after applying Word2Vec or AvgWord2Vec, as the embeddings can contain negative values."
   ]
  },
  {
   "cell_type": "code",
   "execution_count": null,
   "id": "7e8c02fc",
   "metadata": {},
   "outputs": [],
   "source": [
    "X_train,X_test,y_train,y_test = train_test_split(X, y, test_size= 0.3, random_state= 3)"
   ]
  },
  {
   "cell_type": "markdown",
   "id": "c07c60d9",
   "metadata": {},
   "source": [
    "#### Logistic Regression on Average word2vec:"
   ]
  },
  {
   "cell_type": "code",
   "execution_count": 159,
   "id": "86957853",
   "metadata": {},
   "outputs": [
    {
     "data": {
      "text/html": [
       "<style>#sk-container-id-2 {color: black;background-color: white;}#sk-container-id-2 pre{padding: 0;}#sk-container-id-2 div.sk-toggleable {background-color: white;}#sk-container-id-2 label.sk-toggleable__label {cursor: pointer;display: block;width: 100%;margin-bottom: 0;padding: 0.3em;box-sizing: border-box;text-align: center;}#sk-container-id-2 label.sk-toggleable__label-arrow:before {content: \"▸\";float: left;margin-right: 0.25em;color: #696969;}#sk-container-id-2 label.sk-toggleable__label-arrow:hover:before {color: black;}#sk-container-id-2 div.sk-estimator:hover label.sk-toggleable__label-arrow:before {color: black;}#sk-container-id-2 div.sk-toggleable__content {max-height: 0;max-width: 0;overflow: hidden;text-align: left;background-color: #f0f8ff;}#sk-container-id-2 div.sk-toggleable__content pre {margin: 0.2em;color: black;border-radius: 0.25em;background-color: #f0f8ff;}#sk-container-id-2 input.sk-toggleable__control:checked~div.sk-toggleable__content {max-height: 200px;max-width: 100%;overflow: auto;}#sk-container-id-2 input.sk-toggleable__control:checked~label.sk-toggleable__label-arrow:before {content: \"▾\";}#sk-container-id-2 div.sk-estimator input.sk-toggleable__control:checked~label.sk-toggleable__label {background-color: #d4ebff;}#sk-container-id-2 div.sk-label input.sk-toggleable__control:checked~label.sk-toggleable__label {background-color: #d4ebff;}#sk-container-id-2 input.sk-hidden--visually {border: 0;clip: rect(1px 1px 1px 1px);clip: rect(1px, 1px, 1px, 1px);height: 1px;margin: -1px;overflow: hidden;padding: 0;position: absolute;width: 1px;}#sk-container-id-2 div.sk-estimator {font-family: monospace;background-color: #f0f8ff;border: 1px dotted black;border-radius: 0.25em;box-sizing: border-box;margin-bottom: 0.5em;}#sk-container-id-2 div.sk-estimator:hover {background-color: #d4ebff;}#sk-container-id-2 div.sk-parallel-item::after {content: \"\";width: 100%;border-bottom: 1px solid gray;flex-grow: 1;}#sk-container-id-2 div.sk-label:hover label.sk-toggleable__label {background-color: #d4ebff;}#sk-container-id-2 div.sk-serial::before {content: \"\";position: absolute;border-left: 1px solid gray;box-sizing: border-box;top: 0;bottom: 0;left: 50%;z-index: 0;}#sk-container-id-2 div.sk-serial {display: flex;flex-direction: column;align-items: center;background-color: white;padding-right: 0.2em;padding-left: 0.2em;position: relative;}#sk-container-id-2 div.sk-item {position: relative;z-index: 1;}#sk-container-id-2 div.sk-parallel {display: flex;align-items: stretch;justify-content: center;background-color: white;position: relative;}#sk-container-id-2 div.sk-item::before, #sk-container-id-2 div.sk-parallel-item::before {content: \"\";position: absolute;border-left: 1px solid gray;box-sizing: border-box;top: 0;bottom: 0;left: 50%;z-index: -1;}#sk-container-id-2 div.sk-parallel-item {display: flex;flex-direction: column;z-index: 1;position: relative;background-color: white;}#sk-container-id-2 div.sk-parallel-item:first-child::after {align-self: flex-end;width: 50%;}#sk-container-id-2 div.sk-parallel-item:last-child::after {align-self: flex-start;width: 50%;}#sk-container-id-2 div.sk-parallel-item:only-child::after {width: 0;}#sk-container-id-2 div.sk-dashed-wrapped {border: 1px dashed gray;margin: 0 0.4em 0.5em 0.4em;box-sizing: border-box;padding-bottom: 0.4em;background-color: white;}#sk-container-id-2 div.sk-label label {font-family: monospace;font-weight: bold;display: inline-block;line-height: 1.2em;}#sk-container-id-2 div.sk-label-container {text-align: center;}#sk-container-id-2 div.sk-container {/* jupyter's `normalize.less` sets `[hidden] { display: none; }` but bootstrap.min.css set `[hidden] { display: none !important; }` so we also need the `!important` here to be able to override the default hidden behavior on the sphinx rendered scikit-learn.org. See: https://github.com/scikit-learn/scikit-learn/issues/21755 */display: inline-block !important;position: relative;}#sk-container-id-2 div.sk-text-repr-fallback {display: none;}</style><div id=\"sk-container-id-2\" class=\"sk-top-container\"><div class=\"sk-text-repr-fallback\"><pre>LogisticRegression(class_weight=&#x27;balanced&#x27;)</pre><b>In a Jupyter environment, please rerun this cell to show the HTML representation or trust the notebook. <br />On GitHub, the HTML representation is unable to render, please try loading this page with nbviewer.org.</b></div><div class=\"sk-container\" hidden><div class=\"sk-item\"><div class=\"sk-estimator sk-toggleable\"><input class=\"sk-toggleable__control sk-hidden--visually\" id=\"sk-estimator-id-2\" type=\"checkbox\" checked><label for=\"sk-estimator-id-2\" class=\"sk-toggleable__label sk-toggleable__label-arrow\">LogisticRegression</label><div class=\"sk-toggleable__content\"><pre>LogisticRegression(class_weight=&#x27;balanced&#x27;)</pre></div></div></div></div></div>"
      ],
      "text/plain": [
       "LogisticRegression(class_weight='balanced')"
      ]
     },
     "execution_count": 159,
     "metadata": {},
     "output_type": "execute_result"
    }
   ],
   "source": [
    "log_reg.fit(X_train,y_train)"
   ]
  },
  {
   "cell_type": "code",
   "execution_count": 160,
   "id": "61fb9dab",
   "metadata": {},
   "outputs": [],
   "source": [
    "y_pred = log_reg.predict(X_test)"
   ]
  },
  {
   "cell_type": "code",
   "execution_count": 161,
   "id": "e92a9b6a",
   "metadata": {},
   "outputs": [
    {
     "name": "stdout",
     "output_type": "stream",
     "text": [
      "0.9256625727213963\n"
     ]
    }
   ],
   "source": [
    "print(accuracy_score(y_test,y_pred))"
   ]
  },
  {
   "cell_type": "code",
   "execution_count": 162,
   "id": "30c6ab39",
   "metadata": {},
   "outputs": [
    {
     "name": "stdout",
     "output_type": "stream",
     "text": [
      "              precision    recall  f1-score   support\n",
      "\n",
      "           0       0.99      0.93      0.96      1356\n",
      "           1       0.64      0.90      0.75       191\n",
      "\n",
      "    accuracy                           0.93      1547\n",
      "   macro avg       0.81      0.91      0.85      1547\n",
      "weighted avg       0.94      0.93      0.93      1547\n",
      "\n"
     ]
    }
   ],
   "source": [
    "print(classification_report(y_test,y_pred))"
   ]
  },
  {
   "cell_type": "markdown",
   "id": "f58b9a79",
   "metadata": {},
   "source": [
    "#### Random Forest classifier on Average word2vec:"
   ]
  },
  {
   "cell_type": "code",
   "execution_count": 154,
   "id": "93c700ba",
   "metadata": {},
   "outputs": [],
   "source": [
    "from sklearn.ensemble import RandomForestClassifier\n",
    "rfcl = RandomForestClassifier(random_state=3)"
   ]
  },
  {
   "cell_type": "code",
   "execution_count": 155,
   "id": "b080cd00",
   "metadata": {},
   "outputs": [
    {
     "data": {
      "text/html": [
       "<style>#sk-container-id-1 {color: black;background-color: white;}#sk-container-id-1 pre{padding: 0;}#sk-container-id-1 div.sk-toggleable {background-color: white;}#sk-container-id-1 label.sk-toggleable__label {cursor: pointer;display: block;width: 100%;margin-bottom: 0;padding: 0.3em;box-sizing: border-box;text-align: center;}#sk-container-id-1 label.sk-toggleable__label-arrow:before {content: \"▸\";float: left;margin-right: 0.25em;color: #696969;}#sk-container-id-1 label.sk-toggleable__label-arrow:hover:before {color: black;}#sk-container-id-1 div.sk-estimator:hover label.sk-toggleable__label-arrow:before {color: black;}#sk-container-id-1 div.sk-toggleable__content {max-height: 0;max-width: 0;overflow: hidden;text-align: left;background-color: #f0f8ff;}#sk-container-id-1 div.sk-toggleable__content pre {margin: 0.2em;color: black;border-radius: 0.25em;background-color: #f0f8ff;}#sk-container-id-1 input.sk-toggleable__control:checked~div.sk-toggleable__content {max-height: 200px;max-width: 100%;overflow: auto;}#sk-container-id-1 input.sk-toggleable__control:checked~label.sk-toggleable__label-arrow:before {content: \"▾\";}#sk-container-id-1 div.sk-estimator input.sk-toggleable__control:checked~label.sk-toggleable__label {background-color: #d4ebff;}#sk-container-id-1 div.sk-label input.sk-toggleable__control:checked~label.sk-toggleable__label {background-color: #d4ebff;}#sk-container-id-1 input.sk-hidden--visually {border: 0;clip: rect(1px 1px 1px 1px);clip: rect(1px, 1px, 1px, 1px);height: 1px;margin: -1px;overflow: hidden;padding: 0;position: absolute;width: 1px;}#sk-container-id-1 div.sk-estimator {font-family: monospace;background-color: #f0f8ff;border: 1px dotted black;border-radius: 0.25em;box-sizing: border-box;margin-bottom: 0.5em;}#sk-container-id-1 div.sk-estimator:hover {background-color: #d4ebff;}#sk-container-id-1 div.sk-parallel-item::after {content: \"\";width: 100%;border-bottom: 1px solid gray;flex-grow: 1;}#sk-container-id-1 div.sk-label:hover label.sk-toggleable__label {background-color: #d4ebff;}#sk-container-id-1 div.sk-serial::before {content: \"\";position: absolute;border-left: 1px solid gray;box-sizing: border-box;top: 0;bottom: 0;left: 50%;z-index: 0;}#sk-container-id-1 div.sk-serial {display: flex;flex-direction: column;align-items: center;background-color: white;padding-right: 0.2em;padding-left: 0.2em;position: relative;}#sk-container-id-1 div.sk-item {position: relative;z-index: 1;}#sk-container-id-1 div.sk-parallel {display: flex;align-items: stretch;justify-content: center;background-color: white;position: relative;}#sk-container-id-1 div.sk-item::before, #sk-container-id-1 div.sk-parallel-item::before {content: \"\";position: absolute;border-left: 1px solid gray;box-sizing: border-box;top: 0;bottom: 0;left: 50%;z-index: -1;}#sk-container-id-1 div.sk-parallel-item {display: flex;flex-direction: column;z-index: 1;position: relative;background-color: white;}#sk-container-id-1 div.sk-parallel-item:first-child::after {align-self: flex-end;width: 50%;}#sk-container-id-1 div.sk-parallel-item:last-child::after {align-self: flex-start;width: 50%;}#sk-container-id-1 div.sk-parallel-item:only-child::after {width: 0;}#sk-container-id-1 div.sk-dashed-wrapped {border: 1px dashed gray;margin: 0 0.4em 0.5em 0.4em;box-sizing: border-box;padding-bottom: 0.4em;background-color: white;}#sk-container-id-1 div.sk-label label {font-family: monospace;font-weight: bold;display: inline-block;line-height: 1.2em;}#sk-container-id-1 div.sk-label-container {text-align: center;}#sk-container-id-1 div.sk-container {/* jupyter's `normalize.less` sets `[hidden] { display: none; }` but bootstrap.min.css set `[hidden] { display: none !important; }` so we also need the `!important` here to be able to override the default hidden behavior on the sphinx rendered scikit-learn.org. See: https://github.com/scikit-learn/scikit-learn/issues/21755 */display: inline-block !important;position: relative;}#sk-container-id-1 div.sk-text-repr-fallback {display: none;}</style><div id=\"sk-container-id-1\" class=\"sk-top-container\"><div class=\"sk-text-repr-fallback\"><pre>RandomForestClassifier(random_state=3)</pre><b>In a Jupyter environment, please rerun this cell to show the HTML representation or trust the notebook. <br />On GitHub, the HTML representation is unable to render, please try loading this page with nbviewer.org.</b></div><div class=\"sk-container\" hidden><div class=\"sk-item\"><div class=\"sk-estimator sk-toggleable\"><input class=\"sk-toggleable__control sk-hidden--visually\" id=\"sk-estimator-id-1\" type=\"checkbox\" checked><label for=\"sk-estimator-id-1\" class=\"sk-toggleable__label sk-toggleable__label-arrow\">RandomForestClassifier</label><div class=\"sk-toggleable__content\"><pre>RandomForestClassifier(random_state=3)</pre></div></div></div></div></div>"
      ],
      "text/plain": [
       "RandomForestClassifier(random_state=3)"
      ]
     },
     "execution_count": 155,
     "metadata": {},
     "output_type": "execute_result"
    }
   ],
   "source": [
    "rfcl.fit(X_train,y_train)"
   ]
  },
  {
   "cell_type": "code",
   "execution_count": 156,
   "id": "7d2cfc9c",
   "metadata": {},
   "outputs": [],
   "source": [
    "y_pred = rfcl.predict(X_test)"
   ]
  },
  {
   "cell_type": "code",
   "execution_count": null,
   "id": "35d734c7",
   "metadata": {},
   "outputs": [
    {
     "name": "stdout",
     "output_type": "stream",
     "text": [
      "0.9644473173884939\n"
     ]
    }
   ],
   "source": [
    "print(accuracy_score(y_test,y_pred))"
   ]
  },
  {
   "cell_type": "code",
   "execution_count": 158,
   "id": "5d03b5aa",
   "metadata": {},
   "outputs": [
    {
     "name": "stdout",
     "output_type": "stream",
     "text": [
      "              precision    recall  f1-score   support\n",
      "\n",
      "           0       0.98      0.98      0.98      1356\n",
      "           1       0.88      0.83      0.85       191\n",
      "\n",
      "    accuracy                           0.96      1547\n",
      "   macro avg       0.93      0.91      0.92      1547\n",
      "weighted avg       0.96      0.96      0.96      1547\n",
      "\n"
     ]
    }
   ],
   "source": [
    "print(classification_report(y_test,y_pred))"
   ]
  },
  {
   "cell_type": "markdown",
   "id": "5ab77b92",
   "metadata": {},
   "source": [
    "### Model Evaluation Summary\n",
    "\n",
    "By above results we can clearly see:\n",
    "\n",
    "- We are getting good results by using **Random Forest Classifier** on the **AvgWord2Vec** than the **Logistic Regression**, where:\n",
    "  - Accuracy is **93%**\n",
    "  - Precision and Recall for spam class is **64%** and **90%**\n",
    "  - Precision and Recall for ham class is **99%** and **93%**\n",
    "\n",
    "- But still, for the **Random Forest Classifier**:\n",
    "  - Accuracy: **96%**\n",
    "  - Precision and Recall for spam class is **88%** and **83%**\n",
    "  - Precision and Recall for ham class is **98%** and **98%**\n",
    "\n",
    "- Though our accuracy is more or like similar, the **Naive Bayes** on **Bag of Words** gives the **best result** with:\n",
    "  - Accuracy of **98.32%**\n",
    "  - Precision and Recall for ham class is **91%** and **95%** \n",
    "  - Precision and Recall for ham class is **99%** and **99%**\n"
   ]
  }
 ],
 "metadata": {
  "kernelspec": {
   "display_name": "base",
   "language": "python",
   "name": "python3"
  },
  "language_info": {
   "codemirror_mode": {
    "name": "ipython",
    "version": 3
   },
   "file_extension": ".py",
   "mimetype": "text/x-python",
   "name": "python",
   "nbconvert_exporter": "python",
   "pygments_lexer": "ipython3",
   "version": "3.10.9"
  }
 },
 "nbformat": 4,
 "nbformat_minor": 5
}
